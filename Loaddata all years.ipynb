{
 "cells": [
  {
   "cell_type": "code",
   "execution_count": 1,
   "metadata": {},
   "outputs": [],
   "source": [
    "import pandas as pd\n",
    "import numpy as np\n",
    "import matplotlib.pyplot as plt"
   ]
  },
  {
   "cell_type": "code",
   "execution_count": 2,
   "metadata": {},
   "outputs": [],
   "source": [
    "# Old code for transforming the downloaded data into a csv\n",
    "# df = pd.read_stata('Dlnet9198.dta')\n",
    "# df.columns = ['Daytype', 'Workday', 'Half Hour', 'Gr, Fr, Dr, Ov', 'Gelderland', 'Utrecht', 'Noord-Holland', 'Zuid-Holland', 'Zeeland', 'Noord Brabant', 'Limburg', 'date', 'sem']\n",
    "# df.to_csv('Dlnet1998.csv')"
   ]
  },
  {
   "cell_type": "code",
   "execution_count": 3,
   "metadata": {},
   "outputs": [],
   "source": [
    "# Read the data and select columns\n",
    "df = pd.read_excel('Dlnet1998.xlsx')\n",
    "df = df[['Date2', 'Year', 'Month', 'Day', 'Daytype', 'Workday', 'Half Hour', 'Utrecht']]\n",
    "df = df.rename(columns={'Utrecht': 'Load', 'Date2': 'Date'})"
   ]
  },
  {
   "cell_type": "code",
   "execution_count": 4,
   "metadata": {},
   "outputs": [],
   "source": [
    "df = df[df['Year'] != 1998]"
   ]
  },
  {
   "cell_type": "code",
   "execution_count": 5,
   "metadata": {},
   "outputs": [],
   "source": [
    "# Change column order\n",
    "df1 = df[['Date', 'Half Hour', 'Year', 'Month', 'Day', 'Daytype', 'Workday', 'Load']]"
   ]
  },
  {
   "cell_type": "code",
   "execution_count": 6,
   "metadata": {},
   "outputs": [],
   "source": [
    "# Convert loaddata from MWh/half hour to MW\n",
    "df1['Load'] = df1['Load'] * 2"
   ]
  },
  {
   "cell_type": "markdown",
   "metadata": {},
   "source": [
    "# Scale the data of Utrecht from 1991 to The Netherlands 2020"
   ]
  },
  {
   "cell_type": "code",
   "execution_count": 7,
   "metadata": {},
   "outputs": [],
   "source": [
    "scale_factor = 17808 / 1441.142857142857 # Based on the maximum load in The Netherlands in the past 12 months at the moment of this research and the maximum average load in the data, which is calculated in the last cell of this script. The maximum load in The Netherlands can be retrieved from: https://www.tennet.eu/nl/elektriciteitsmarkt/data-dashboard/belasting/"
   ]
  },
  {
   "cell_type": "code",
   "execution_count": 8,
   "metadata": {},
   "outputs": [],
   "source": [
    "df1['Load'] = df1['Load'] * scale_factor"
   ]
  },
  {
   "cell_type": "markdown",
   "metadata": {},
   "source": [
    "# Fill missing values of time differences in March and drop leap days"
   ]
  },
  {
   "cell_type": "code",
   "execution_count": 9,
   "metadata": {},
   "outputs": [],
   "source": [
    "# Fill missing values of time differences in March by taking the adjacent load as value for these missing times in March\n",
    "for date in list(df1.Date.unique()):\n",
    "    df_day = df1[df1['Date'] == date]\n",
    "    if df_day.shape[0] != 48:        \n",
    "        df_new = df1[df1['Date'] == date]\n",
    "        df_new = df_new.reset_index(drop = True)\n",
    "        df_new = df_new[3:5]\n",
    "        df_new['Half Hour'] = [5, 6]\n",
    "        df1 = df1.append(df_new)\n",
    "\n",
    "df1 = df1.sort_values(['Year', 'Month', 'Day', 'Half Hour'])"
   ]
  },
  {
   "cell_type": "code",
   "execution_count": 10,
   "metadata": {},
   "outputs": [],
   "source": [
    "# # Drop last days of 1992 and 1992 so every year has the same length. Leap days itself are not dropped intentionally to not lose a random weekday somewhere in the year\n",
    "for i in range(1991,1998):\n",
    "    if i%4 == 0:\n",
    "        df2 = df1[df1['Year'] == i]\n",
    "        df2 = df2[:17520]\n",
    "        df1 = df1[df1['Year'] != i]\n",
    "        df1 = df1.append(df2)\n",
    "df1 = df1.sort_values(['Year', 'Month', 'Day', 'Half Hour'])\n",
    "# ind = df1[(df1['Month'] == 2) & (df1['Day'] == 29)].index\n",
    "# df1.drop(ind, inplace=True)\n",
    "# df1 = df1.reset_index(drop = True)"
   ]
  },
  {
   "cell_type": "markdown",
   "metadata": {},
   "source": [
    "# Add times"
   ]
  },
  {
   "cell_type": "code",
   "execution_count": 11,
   "metadata": {},
   "outputs": [],
   "source": [
    "# Transform the data from half hour into 15 min blocks\n",
    "df1 = df1.append(df1, ignore_index = True)\n",
    "df1 = df1.sort_values(['Year', 'Month', 'Day', 'Half Hour'])\n",
    "df1 = df1.reset_index(drop = True)"
   ]
  },
  {
   "cell_type": "code",
   "execution_count": 12,
   "metadata": {},
   "outputs": [],
   "source": [
    "# For the new times, set the load the average of the two adjacent values\n",
    "# The data of a half hour determines the value of times ending with 15 or 45. The time ending with 00 or 30 are the average between the cell above and below them.\n",
    "for i in range(2, df1.shape[0], 2):\n",
    "    df1.loc[i, 'Load'] = ((df1.loc[i-1, 'Load'] + df1.loc[i+1, 'Load']) / 2)"
   ]
  },
  {
   "cell_type": "code",
   "execution_count": 13,
   "metadata": {},
   "outputs": [],
   "source": [
    "T = ['00:00', '00:15', '00:30', '00:45', '01:00', '01:15', '01:30', '01:45', '02:00', '02:15', '02:30', '02:45', '03:00', '03:15', '03:30', '03:45', '04:00', '04:15', '04:30', '04:45', '05:00', '05:15', '05:30', '05:45', '06:00', '06:15', '06:30', '06:45', '07:00', '07:15', '07:30', '07:45', '08:00', '08:15', '08:30', '08:45', '09:00', '09:15', '09:30', '09:45', '10:00', '10:15', '10:30', '10:45', '11:00', '11:15', '11:30', '11:45', '12:00', '12:15', '12:30', '12:45', '13:00', '13:15', '13:30', '13:45', '14:00', '14:15', '14:30', '14:45', '15:00', '15:15', '15:30', '15:45', '16:00', '16:15', '16:30', '16:45', '17:00', '17:15', '17:30', '17:45', '18:00', '18:15', '18:30', '18:45', '19:00', '19:15', '19:30', '19:45', '20:00', '20:15', '20:30', '20:45', '21:00', '21:15', '21:30', '21:45', '22:00', '22:15', '22:30', '22:45', '23:00', '23:15', '23:30', '23:45', ]\n",
    "T365 = T * 365\n",
    "T2555 = T * 2555"
   ]
  },
  {
   "cell_type": "code",
   "execution_count": 14,
   "metadata": {},
   "outputs": [],
   "source": [
    "df1['Time'] = T2555"
   ]
  },
  {
   "cell_type": "markdown",
   "metadata": {},
   "source": [
    "# Drop irregular days"
   ]
  },
  {
   "cell_type": "code",
   "execution_count": 15,
   "metadata": {},
   "outputs": [],
   "source": [
    "# Add old yearday\n",
    "L = list(range(1, 366)) * 96\n",
    "L.sort()\n",
    "L = L * 7\n",
    "df1['Old_Yearday'] = L"
   ]
  },
  {
   "cell_type": "code",
   "execution_count": 16,
   "metadata": {},
   "outputs": [],
   "source": [
    "# Specify special days\n",
    "\n",
    "# Truc is de leap days erin laten en dan dag 366 eruit zodat de weekdagen goed doorlopen --> in rapport\n",
    "\n",
    "yeardict = {\n",
    "    '1991': [88, 91, 120, 129, 130, 140],\n",
    "    '1992': [108, 111, 121, 149, 150, 160],\n",
    "    '1993': [99, 102, 120, 140, 141, 151],\n",
    "    '1994': [91, 94, 120, 132, 133, 143],\n",
    "    '1995': [104, 107, 120, 145, 146, 156],\n",
    "    '1996': [96, 99, 121, 137, 138, 148],\n",
    "    '1997': [87, 90, 120, 128, 129, 139],\n",
    "}"
   ]
  },
  {
   "cell_type": "code",
   "execution_count": 17,
   "metadata": {},
   "outputs": [],
   "source": [
    "# Convert special days into nans\n",
    "for i in range(0, df1.shape[0], 96):\n",
    "    for year in range(1991, 1998):\n",
    "        if df1.loc[i, 'Year'] == year and df1.loc[i, 'Old_Yearday'] in yeardict[str(year)]:\n",
    "            df1.loc[i:i+95, 'Load':'Load'] = 'nan'"
   ]
  },
  {
   "cell_type": "code",
   "execution_count": 18,
   "metadata": {},
   "outputs": [],
   "source": [
    "special_days = [1, 125, 359, 360]\n",
    "special_days_leap = [1, 126, 360, 361]\n",
    "\n",
    "# Specify for every year how many days should be shifted\n",
    "shiftdict = {\n",
    "    '1991': 3,\n",
    "    '1992': 2,\n",
    "    '1993': 0,\n",
    "    '1994': 6,\n",
    "    '1995': 5,\n",
    "    '1996': 4,\n",
    "    '1997': 2\n",
    "}"
   ]
  },
  {
   "cell_type": "code",
   "execution_count": 19,
   "metadata": {},
   "outputs": [],
   "source": [
    "load1991 = df1[df1['Year'] == 1991]\n",
    "load1992 = df1[df1['Year'] == 1992]\n",
    "load1993 = df1[df1['Year'] == 1993]\n",
    "load1994 = df1[df1['Year'] == 1994]\n",
    "load1995 = df1[df1['Year'] == 1995]\n",
    "load1996 = df1[df1['Year'] == 1996]\n",
    "load1997 = df1[df1['Year'] == 1997]"
   ]
  },
  {
   "cell_type": "code",
   "execution_count": 20,
   "metadata": {},
   "outputs": [
    {
     "name": "stderr",
     "output_type": "stream",
     "text": [
      "C:\\Users\\sjoer\\Anaconda3\\lib\\site-packages\\ipykernel_launcher.py:6: SettingWithCopyWarning: \n",
      "A value is trying to be set on a copy of a slice from a DataFrame.\n",
      "Try using .loc[row_indexer,col_indexer] = value instead\n",
      "\n",
      "See the caveats in the documentation: http://pandas.pydata.org/pandas-docs/stable/indexing.html#indexing-view-versus-copy\n",
      "  \n",
      "C:\\Users\\sjoer\\Anaconda3\\lib\\site-packages\\pandas\\core\\indexing.py:543: SettingWithCopyWarning: \n",
      "A value is trying to be set on a copy of a slice from a DataFrame.\n",
      "Try using .loc[row_indexer,col_indexer] = value instead\n",
      "\n",
      "See the caveats in the documentation: http://pandas.pydata.org/pandas-docs/stable/indexing.html#indexing-view-versus-copy\n",
      "  self.obj[item] = s\n",
      "C:\\Users\\sjoer\\Anaconda3\\lib\\site-packages\\ipykernel_launcher.py:28: SettingWithCopyWarning: \n",
      "A value is trying to be set on a copy of a slice from a DataFrame.\n",
      "Try using .loc[row_indexer,col_indexer] = value instead\n",
      "\n",
      "See the caveats in the documentation: http://pandas.pydata.org/pandas-docs/stable/indexing.html#indexing-view-versus-copy\n",
      "C:\\Users\\sjoer\\Anaconda3\\lib\\site-packages\\ipykernel_launcher.py:53: SettingWithCopyWarning: \n",
      "A value is trying to be set on a copy of a slice from a DataFrame.\n",
      "Try using .loc[row_indexer,col_indexer] = value instead\n",
      "\n",
      "See the caveats in the documentation: http://pandas.pydata.org/pandas-docs/stable/indexing.html#indexing-view-versus-copy\n",
      "C:\\Users\\sjoer\\Anaconda3\\lib\\site-packages\\ipykernel_launcher.py:61: SettingWithCopyWarning: \n",
      "A value is trying to be set on a copy of a slice from a DataFrame.\n",
      "Try using .loc[row_indexer,col_indexer] = value instead\n",
      "\n",
      "See the caveats in the documentation: http://pandas.pydata.org/pandas-docs/stable/indexing.html#indexing-view-versus-copy\n",
      "C:\\Users\\sjoer\\Anaconda3\\lib\\site-packages\\ipykernel_launcher.py:83: SettingWithCopyWarning: \n",
      "A value is trying to be set on a copy of a slice from a DataFrame.\n",
      "Try using .loc[row_indexer,col_indexer] = value instead\n",
      "\n",
      "See the caveats in the documentation: http://pandas.pydata.org/pandas-docs/stable/indexing.html#indexing-view-versus-copy\n",
      "C:\\Users\\sjoer\\Anaconda3\\lib\\site-packages\\ipykernel_launcher.py:105: SettingWithCopyWarning: \n",
      "A value is trying to be set on a copy of a slice from a DataFrame.\n",
      "Try using .loc[row_indexer,col_indexer] = value instead\n",
      "\n",
      "See the caveats in the documentation: http://pandas.pydata.org/pandas-docs/stable/indexing.html#indexing-view-versus-copy\n",
      "C:\\Users\\sjoer\\Anaconda3\\lib\\site-packages\\ipykernel_launcher.py:134: SettingWithCopyWarning: \n",
      "A value is trying to be set on a copy of a slice from a DataFrame.\n",
      "Try using .loc[row_indexer,col_indexer] = value instead\n",
      "\n",
      "See the caveats in the documentation: http://pandas.pydata.org/pandas-docs/stable/indexing.html#indexing-view-versus-copy\n"
     ]
    }
   ],
   "source": [
    "## 1991\n",
    "# Set the number of days that have to be shifted\n",
    "shift = shiftdict['1991']\n",
    "\n",
    "# Set Old_yearday - shift as new_yearday to make the shift possible\n",
    "load1991['New Yearday'] = load1991['Old_Yearday'] - shift\n",
    "\n",
    "# Make sure the special days keep their own place\n",
    "for day in special_days:\n",
    "    load1991.loc[load1991.Old_Yearday == day, 'New Yearday'] = day\n",
    "    \n",
    "# Use the first days of January (except for 1 January) that will fall of the dataframe after the shift to fill the gap that will arise in December because of the shift\n",
    "for day in list(range(365))[2:2+shift]:\n",
    "    load1991.loc[load1991.Old_Yearday == day, 'New Yearday'] = day + (52*7) - shift # Take shift number of days in january to fill the gap that will arise due to the shift\n",
    "\n",
    "# The data that will be placed on a special day (except 1 January) is being put on the gap that arises because of the fact that these special days will not be moved. Since this data is from another weekday, this data is being replaced by nan values. Another option would be using data of another week, but this data is already been used at other days and therefore this would overrepresent this data.\n",
    "# Note that the data of Yearday 1 + shift would normally also be pasted on 1 January, which is unwanted, but this has already been fixed above by moving the data to the end of December\n",
    "for day in special_days[1:]:\n",
    "    load1991.loc[load1991.Old_Yearday == day + shift, 'New Yearday'] = load1991['Old_Yearday'] - (2*shift)\n",
    "    load1991.loc[load1991.Old_Yearday == day + shift, 'Load'] = 'nan'\n",
    "\n",
    "\n",
    "## 1992\n",
    "# Set the number of days that have to be shifted\n",
    "shift = shiftdict['1992']\n",
    "\n",
    "# Set Old_yearday - shift as new_yearday to make the shift possible\n",
    "load1992['New Yearday'] = load1992['Old_Yearday'] - shift\n",
    "\n",
    "# Make sure the special days keep their own place\n",
    "for day in special_days_leap:\n",
    "    load1992.loc[load1992.Old_Yearday == day, 'New Yearday'] = day\n",
    "    \n",
    "# Use the first days of January (except for 1 January) that will fall of the dataframe after the shift to fill the gap that will arise in December because of the shift\n",
    "for day in list(range(365))[2:2+shift]:\n",
    "    load1992.loc[load1992.Old_Yearday == day, 'New Yearday'] = day + (52*7) - shift # Take shift number of days in january to fill the gap that will arise due to the shift\n",
    "\n",
    "# The data that will be placed on a special day (except 1 January) is being put on the gap that arises because of the fact that these special days will not be moved. Since this data is from another weekday, this data is being replaced by nan values. Another option would be using data of another week, but this data is already been used at other days and therefore this would overrepresent this data.\n",
    "# Note that the data of Yearday 1 + shift would normally also be pasted on 1 January, which is unwanted, but this has already been fixed above by moving the data to the end of December\n",
    "for day in special_days_leap[1:]:\n",
    "    load1992.loc[load1992.Old_Yearday == day + shift, 'New Yearday'] = load1992['Old_Yearday'] - (2*shift)\n",
    "    load1992.loc[load1992.Old_Yearday == day + shift, 'Load'] = 'nan'\n",
    "    \n",
    "# For the leap years, to align the data with the other years, swap the data from the special days after 29 February with the data from the day before. The data that goes the other way around is set to nan since its weekday is different from what is right at that place in the dataframe.\n",
    "for day in special_days_leap[1:]:\n",
    "    load1992.loc[load1992['New Yearday'] == day - 1, 'New Yearday'] = day + 1000\n",
    "    load1992.loc[load1992['New Yearday'] == day, 'New Yearday'] = day - 1\n",
    "    load1992.loc[load1992['New Yearday'] == day + 1000, 'New Yearday'] = day\n",
    "    load1992.loc[load1992['New Yearday'] == day, 'Load'] = 'nan'\n",
    "\n",
    "    \n",
    "# Since 1993 is already starting on the right weekday, 1993 does not have to be shifted\n",
    "load1993['New Yearday'] = load1993['Old_Yearday']\n",
    "\n",
    "\n",
    "## 1994\n",
    "# Set the number of days that have to be shifted\n",
    "shift = shiftdict['1994']\n",
    "\n",
    "# Set Old_yearday - shift as new_yearday to make the shift possible\n",
    "load1994['New Yearday'] = load1994['Old_Yearday'] - shift\n",
    "\n",
    "# Make sure the special days keep their own place\n",
    "for day in special_days:\n",
    "    load1994.loc[load1994.Old_Yearday == day, 'New Yearday'] = day\n",
    "    \n",
    "# Use the first days of January (except for 1 January) that will fall of the dataframe after the shift to fill the gap that will arise in December because of the shift\n",
    "for day in list(range(365))[2:2+shift]:\n",
    "    load1994.loc[load1994.Old_Yearday == day, 'New Yearday'] = day + (52*7) - shift # Take shift number of days in january to fill the gap that will arise due to the shift\n",
    "\n",
    "# The data that will be placed on a special day (except 1 January) is being put on the gap that arises because of the fact that these special days will not be moved. Since this data is from another weekday, this data is being replaced by nan values. Another option would be using data of another week, but this data is already been used at other days and therefore this would overrepresent this data.\n",
    "# Note that the data of Yearday 1 + shift would normally also be pasted on 1 January, which is unwanted, but this has already been fixed above by moving the data to the end of December\n",
    "for day in special_days[1:]:\n",
    "    load1994.loc[load1994.Old_Yearday == day + shift, 'New Yearday'] = load1994['Old_Yearday'] - (2*shift)\n",
    "    load1994.loc[load1994.Old_Yearday == day + shift, 'Load'] = 'nan'\n",
    "\n",
    "    \n",
    "## 1995\n",
    "# Set the number of days that have to be shifted\n",
    "shift = shiftdict['1995']\n",
    "\n",
    "# Set Old_yearday - shift as new_yearday to make the shift possible\n",
    "load1995['New Yearday'] = load1995['Old_Yearday'] - shift\n",
    "\n",
    "# Make sure the special days keep their own place\n",
    "for day in special_days:\n",
    "    load1995.loc[load1995.Old_Yearday == day, 'New Yearday'] = day\n",
    "    \n",
    "# Use the first days of January (except for 1 January) that will fall of the dataframe after the shift to fill the gap that will arise in December because of the shift\n",
    "for day in list(range(365))[2:2+shift]:\n",
    "    load1995.loc[load1995.Old_Yearday == day, 'New Yearday'] = day + (52*7) - shift # Take shift number of days in january to fill the gap that will arise due to the shift\n",
    "\n",
    "# The data that will be placed on a special day (except 1 January) is being put on the gap that arises because of the fact that these special days will not be moved. Since this data is from another weekday, this data is being replaced by nan values. Another option would be using data of another week, but this data is already been used at other days and therefore this would overrepresent this data.\n",
    "# Note that the data of Yearday 1 + shift would normally also be pasted on 1 January, which is unwanted, but this has already been fixed above by moving the data to the end of December\n",
    "for day in special_days[1:]:\n",
    "    load1995.loc[load1995.Old_Yearday == day + shift, 'New Yearday'] = load1995['Old_Yearday'] - (2*shift)\n",
    "    load1995.loc[load1995.Old_Yearday == day + shift, 'Load'] = 'nan'\n",
    "\n",
    "\n",
    "## 1996\n",
    "# Set the number of days that have to be shifted\n",
    "shift = shiftdict['1996']\n",
    "\n",
    "# Set Old_yearday - shift as new_yearday to make the shift possible\n",
    "load1996['New Yearday'] = load1996['Old_Yearday'] - shift\n",
    "\n",
    "# Make sure the special days keep their own place\n",
    "for day in special_days_leap:\n",
    "    load1996.loc[load1996.Old_Yearday == day, 'New Yearday'] = day\n",
    "    \n",
    "# Use the first days of January (except for 1 January) that will fall of the dataframe after the shift to fill the gap that will arise in December because of the shift\n",
    "for day in list(range(365))[2:2+shift]:\n",
    "    load1996.loc[load1996.Old_Yearday == day, 'New Yearday'] = day + (52*7) - shift # Take shift number of days in january to fill the gap that will arise due to the shift\n",
    "\n",
    "# The data that will be placed on a special day (except 1 January) is being put on the gap that arises because of the fact that these special days will not be moved. Since this data is from another weekday, this data is being replaced by nan values. Another option would be using data of another week, but this data is already been used at other days and therefore this would overrepresent this data.\n",
    "# Note that the data of Yearday 1 + shift would normally also be pasted on 1 January, which is unwanted, but this has already been fixed above by moving the data to the end of December\n",
    "for day in special_days_leap[1:]:\n",
    "    load1996.loc[load1996.Old_Yearday == day + shift, 'New Yearday'] = load1996['Old_Yearday'] - (2*shift)\n",
    "    load1996.loc[load1996.Old_Yearday == day + shift, 'Load'] = 'nan'\n",
    "    \n",
    "# For the leap years, to align the data with the other years, swap the data from the special days after 29 February with the data from the day before. The data that goes the other way around is set to nan since its weekday is different from what is right at that place in the dataframe.\n",
    "for day in special_days_leap[1:]:\n",
    "    load1996.loc[load1996['New Yearday'] == day - 1, 'New Yearday'] = day + 1000\n",
    "    load1996.loc[load1996['New Yearday'] == day, 'New Yearday'] = day - 1\n",
    "    load1996.loc[load1996['New Yearday'] == day + 1000, 'New Yearday'] = day\n",
    "    load1996.loc[load1996['New Yearday'] == day, 'Load'] = 'nan'\n",
    "\n",
    "    \n",
    "## 1997\n",
    "# Set the number of days that have to be shifted\n",
    "shift = shiftdict['1997']\n",
    "\n",
    "# Set Old_yearday - shift as new_yearday to make the shift possible\n",
    "load1997['New Yearday'] = load1997['Old_Yearday'] - shift\n",
    "\n",
    "# Make sure the special days keep their own place\n",
    "for day in special_days:\n",
    "    load1997.loc[load1997.Old_Yearday == day, 'New Yearday'] = day\n",
    "    \n",
    "# Use the first days of January (except for 1 January) that will fall of the dataframe after the shift to fill the gap that will arise in December because of the shift\n",
    "for day in list(range(365))[2:2+shift]:\n",
    "    load1997.loc[load1997.Old_Yearday == day, 'New Yearday'] = day + (52*7) - shift # Take shift number of days in january to fill the gap that will arise due to the shift\n",
    "\n",
    "# The data that will be placed on a special day (except 1 January) is being put on the gap that arises because of the fact that these special days will not be moved. Since this data is from another weekday, this data is being replaced by nan values. Another option would be using data of another week, but this data is already been used at other days and therefore this would overrepresent this data.\n",
    "# Note that the data of Yearday 1 + shift would normally also be pasted on 1 January, which is unwanted, but this has already been fixed above by moving the data to the end of December\n",
    "for day in special_days[1:]:\n",
    "    load1997.loc[load1997.Old_Yearday == day + shift, 'New Yearday'] = load1997['Old_Yearday'] - (2*shift)\n",
    "    load1997.loc[load1997.Old_Yearday == day + shift, 'Load'] = 'nan'\n"
   ]
  },
  {
   "cell_type": "code",
   "execution_count": 21,
   "metadata": {},
   "outputs": [],
   "source": [
    "# Make the shift and rename columns\n",
    "load1991 = load1991.sort_values(['New Yearday', 'Time']).reset_index(drop = True).rename(columns={'New Yearday': 'Yearday'}).drop(['Old_Yearday'], axis = 1)\n",
    "load1992 = load1992.sort_values(['New Yearday', 'Time']).reset_index(drop = True).rename(columns={'New Yearday': 'Yearday'}).drop(['Old_Yearday'], axis = 1)\n",
    "load1993 = load1993.sort_values(['New Yearday', 'Time']).reset_index(drop = True).rename(columns={'New Yearday': 'Yearday'}).drop(['Old_Yearday'], axis = 1)\n",
    "load1994 = load1994.sort_values(['New Yearday', 'Time']).reset_index(drop = True).rename(columns={'New Yearday': 'Yearday'}).drop(['Old_Yearday'], axis = 1)\n",
    "load1995 = load1995.sort_values(['New Yearday', 'Time']).reset_index(drop = True).rename(columns={'New Yearday': 'Yearday'}).drop(['Old_Yearday'], axis = 1)\n",
    "load1996 = load1996.sort_values(['New Yearday', 'Time']).reset_index(drop = True).rename(columns={'New Yearday': 'Yearday'}).drop(['Old_Yearday'], axis = 1)\n",
    "load1997 = load1997.sort_values(['New Yearday', 'Time']).reset_index(drop = True).rename(columns={'New Yearday': 'Yearday'}).drop(['Old_Yearday'], axis = 1)"
   ]
  },
  {
   "cell_type": "markdown",
   "metadata": {},
   "source": [
    "# Make a dataframe with average load data"
   ]
  },
  {
   "cell_type": "code",
   "execution_count": 22,
   "metadata": {},
   "outputs": [],
   "source": [
    "list_df = [load1991, load1992, load1993, load1994, load1995, load1996, load1997]"
   ]
  },
  {
   "cell_type": "code",
   "execution_count": 23,
   "metadata": {},
   "outputs": [],
   "source": [
    "average_load = pd.DataFrame(index = range(35040), columns = ['Yearday', 'Workday', 'Weekday', 'Time', 'Load [MW]'])\n",
    "for c in ['Yearday', 'Time']:\n",
    "    average_load[c] = load1991[c]\n",
    "    \n",
    "# Add Workday column\n",
    "average_load['Workday'] = True\n",
    "\n",
    "# Set workday False in the weekends\n",
    "average_load.loc[load1991.Daytype == 1, 'Workday'] = False\n",
    "average_load.loc[load1991.Daytype == 7, 'Workday'] = False\n",
    "    \n",
    "# Set workday False at special day: New Year's Day, Liberation Day, Christmas\n",
    "average_load.loc[average_load.Yearday == 1, 'Workday'] = False\n",
    "average_load.loc[average_load.Yearday == 125, 'Workday'] = False\n",
    "average_load.loc[average_load.Yearday == 359, 'Workday'] = False\n",
    "average_load.loc[average_load.Yearday == 360, 'Workday'] = False\n",
    "\n",
    "average_load['Weekday'] = load1993['Daytype']\n",
    "\n",
    "# Add average load\n",
    "for t in range(35040):\n",
    "    L = []\n",
    "    for d in list_df:\n",
    "        L.append(d.loc[t, 'Load'])\n",
    "    L1 = [x for x in L if str(x) != 'nan']\n",
    "    average_load.loc[t, 'Load [MW]'] = sum(L1) / len(L1)"
   ]
  },
  {
   "cell_type": "markdown",
   "metadata": {},
   "source": [
    "# Save data"
   ]
  },
  {
   "cell_type": "code",
   "execution_count": 24,
   "metadata": {},
   "outputs": [],
   "source": [
    "df1 = df1[['Date', 'Year' ,'Month', 'Day', 'Daytype', 'Workday', 'Time', 'Load']]"
   ]
  },
  {
   "cell_type": "code",
   "execution_count": 25,
   "metadata": {},
   "outputs": [],
   "source": [
    "# Save load data for every year\n",
    "for year in range(1991, 1998):\n",
    "    df_year = df1[df1['Year'] == year]\n",
    "    df_year = df_year.reset_index(drop = True)\n",
    "    df_year.to_csv('Loaddata ' + str(year) + '.csv')"
   ]
  },
  {
   "cell_type": "code",
   "execution_count": 26,
   "metadata": {},
   "outputs": [],
   "source": [
    "# Save average load data\n",
    "average_load.to_csv('Loaddata average.csv')"
   ]
  },
  {
   "cell_type": "code",
   "execution_count": 27,
   "metadata": {},
   "outputs": [
    {
     "data": {
      "text/html": [
       "<div>\n",
       "<style scoped>\n",
       "    .dataframe tbody tr th:only-of-type {\n",
       "        vertical-align: middle;\n",
       "    }\n",
       "\n",
       "    .dataframe tbody tr th {\n",
       "        vertical-align: top;\n",
       "    }\n",
       "\n",
       "    .dataframe thead th {\n",
       "        text-align: right;\n",
       "    }\n",
       "</style>\n",
       "<table border=\"1\" class=\"dataframe\">\n",
       "  <thead>\n",
       "    <tr style=\"text-align: right;\">\n",
       "      <th></th>\n",
       "      <th>Yearday</th>\n",
       "      <th>Workday</th>\n",
       "      <th>Weekday</th>\n",
       "      <th>Time</th>\n",
       "      <th>Load [MW]</th>\n",
       "    </tr>\n",
       "  </thead>\n",
       "  <tbody>\n",
       "    <tr>\n",
       "      <th>28</th>\n",
       "      <td>1</td>\n",
       "      <td>False</td>\n",
       "      <td>6</td>\n",
       "      <td>07:00</td>\n",
       "      <td>6635.63</td>\n",
       "    </tr>\n",
       "    <tr>\n",
       "      <th>29</th>\n",
       "      <td>1</td>\n",
       "      <td>False</td>\n",
       "      <td>6</td>\n",
       "      <td>07:15</td>\n",
       "      <td>6768.03</td>\n",
       "    </tr>\n",
       "    <tr>\n",
       "      <th>30</th>\n",
       "      <td>1</td>\n",
       "      <td>False</td>\n",
       "      <td>6</td>\n",
       "      <td>07:30</td>\n",
       "      <td>6941.02</td>\n",
       "    </tr>\n",
       "    <tr>\n",
       "      <th>31</th>\n",
       "      <td>1</td>\n",
       "      <td>False</td>\n",
       "      <td>6</td>\n",
       "      <td>07:45</td>\n",
       "      <td>7114.02</td>\n",
       "    </tr>\n",
       "    <tr>\n",
       "      <th>32</th>\n",
       "      <td>1</td>\n",
       "      <td>False</td>\n",
       "      <td>6</td>\n",
       "      <td>08:00</td>\n",
       "      <td>7272.89</td>\n",
       "    </tr>\n",
       "    <tr>\n",
       "      <th>33</th>\n",
       "      <td>1</td>\n",
       "      <td>False</td>\n",
       "      <td>6</td>\n",
       "      <td>08:15</td>\n",
       "      <td>7431.77</td>\n",
       "    </tr>\n",
       "    <tr>\n",
       "      <th>34</th>\n",
       "      <td>1</td>\n",
       "      <td>False</td>\n",
       "      <td>6</td>\n",
       "      <td>08:30</td>\n",
       "      <td>7495.32</td>\n",
       "    </tr>\n",
       "    <tr>\n",
       "      <th>35</th>\n",
       "      <td>1</td>\n",
       "      <td>False</td>\n",
       "      <td>6</td>\n",
       "      <td>08:45</td>\n",
       "      <td>7558.87</td>\n",
       "    </tr>\n",
       "    <tr>\n",
       "      <th>36</th>\n",
       "      <td>1</td>\n",
       "      <td>False</td>\n",
       "      <td>6</td>\n",
       "      <td>09:00</td>\n",
       "      <td>7677.14</td>\n",
       "    </tr>\n",
       "    <tr>\n",
       "      <th>37</th>\n",
       "      <td>1</td>\n",
       "      <td>False</td>\n",
       "      <td>6</td>\n",
       "      <td>09:15</td>\n",
       "      <td>7795.41</td>\n",
       "    </tr>\n",
       "    <tr>\n",
       "      <th>38</th>\n",
       "      <td>1</td>\n",
       "      <td>False</td>\n",
       "      <td>6</td>\n",
       "      <td>09:30</td>\n",
       "      <td>8031.96</td>\n",
       "    </tr>\n",
       "    <tr>\n",
       "      <th>39</th>\n",
       "      <td>1</td>\n",
       "      <td>False</td>\n",
       "      <td>6</td>\n",
       "      <td>09:45</td>\n",
       "      <td>8268.5</td>\n",
       "    </tr>\n",
       "    <tr>\n",
       "      <th>40</th>\n",
       "      <td>1</td>\n",
       "      <td>False</td>\n",
       "      <td>6</td>\n",
       "      <td>10:00</td>\n",
       "      <td>8535.06</td>\n",
       "    </tr>\n",
       "  </tbody>\n",
       "</table>\n",
       "</div>"
      ],
      "text/plain": [
       "    Yearday  Workday  Weekday   Time Load [MW]\n",
       "28        1    False        6  07:00   6635.63\n",
       "29        1    False        6  07:15   6768.03\n",
       "30        1    False        6  07:30   6941.02\n",
       "31        1    False        6  07:45   7114.02\n",
       "32        1    False        6  08:00   7272.89\n",
       "33        1    False        6  08:15   7431.77\n",
       "34        1    False        6  08:30   7495.32\n",
       "35        1    False        6  08:45   7558.87\n",
       "36        1    False        6  09:00   7677.14\n",
       "37        1    False        6  09:15   7795.41\n",
       "38        1    False        6  09:30   8031.96\n",
       "39        1    False        6  09:45    8268.5\n",
       "40        1    False        6  10:00   8535.06"
      ]
     },
     "execution_count": 27,
     "metadata": {},
     "output_type": "execute_result"
    }
   ],
   "source": [
    "average_load[28:41]"
   ]
  },
  {
   "cell_type": "markdown",
   "metadata": {},
   "source": [
    "# Save plots for workday and weekday"
   ]
  },
  {
   "cell_type": "code",
   "execution_count": 28,
   "metadata": {},
   "outputs": [],
   "source": [
    "df_work = pd.DataFrame(0, index = range(96), columns = ['Time', 'Load [MW]'])\n",
    "df_weekend = pd.DataFrame(0, index = range(96), columns = ['Time', 'Load [MW]'])\n",
    "\n",
    "for i in range(96):\n",
    "    work = average_load[average_load['Workday'] == True]\n",
    "    weekend = average_load[average_load['Workday'] == False]\n",
    "    \n",
    "    work2 = work[work.index % 96 == i]\n",
    "    weekend2 = weekend[weekend.index % 96 == i]\n",
    "    \n",
    "    average_load_work = work2['Load [MW]'].sum() / work2.shape[0]\n",
    "    average_load_weekend = weekend2['Load [MW]'].sum() / weekend2.shape[0]\n",
    "    \n",
    "    df_work.loc[i, 'Load [MW]'] = average_load_work\n",
    "    df_weekend.loc[i, 'Load [MW]'] = average_load_weekend\n",
    "\n",
    "df_work['Time'] = T\n",
    "df_weekend['Time'] = T"
   ]
  },
  {
   "cell_type": "code",
   "execution_count": 30,
   "metadata": {},
   "outputs": [
    {
     "data": {
      "image/png": "[encoded data removed]",
      "text/plain": [
       "<Figure size 432x288 with 1 Axes>"
      ]
     },
     "metadata": {},
     "output_type": "display_data"
    }
   ],
   "source": [
    "x = df_work['Time']\n",
    "y1 = df_work['Load [MW]']\n",
    "plt.plot(x, y1)\n",
    "plt.xticks(np.arange(0, 96, 8), rotation = 50)\n",
    "plt.xlabel('Time') \n",
    "plt.ylabel('Load [MW]') \n",
    "plt.title('Load distribution on an average workday') \n",
    "plt.savefig('Load distribution on an average workday.png')\n",
    "plt.show() "
   ]
  },
  {
   "cell_type": "code",
   "execution_count": 29,
   "metadata": {},
   "outputs": [
    {
     "data": {
      "image/png": "[encoded data removed]",
      "text/plain": [
       "<Figure size 432x288 with 1 Axes>"
      ]
     },
     "metadata": {},
     "output_type": "display_data"
    }
   ],
   "source": [
    "x = df_weekend['Time']\n",
    "y2 = df_weekend['Load [MW]']\n",
    "plt.plot(x, y2)\n",
    "plt.xticks(np.arange(0, 96, 8), rotation = 50)\n",
    "plt.xlabel('Time') \n",
    "plt.ylabel('Load [MW]') \n",
    "plt.title('Load distribution on an average non-working day') \n",
    "plt.savefig('Load distribution on an average non-working day.png')\n",
    "plt.show() "
   ]
  },
  {
   "cell_type": "code",
   "execution_count": 43,
   "metadata": {},
   "outputs": [
    {
     "data": {
      "image/png": "[encoded data removed]",
      "text/plain": [
       "<Figure size 432x288 with 1 Axes>"
      ]
     },
     "metadata": {},
     "output_type": "display_data"
    }
   ],
   "source": [
    "x = df_weekend['Time']\n",
    "y1 = df_work['Load [MW]']\n",
    "y2 = df_weekend['Load [MW]']\n",
    "plt.plot(x, y1, color = 'blue', label = 'Average working day')\n",
    "plt.plot(x, y2, color = 'red', label = 'Average non-working day')\n",
    "plt.xticks(np.arange(0, 96, 8), rotation = 50)\n",
    "plt.yticks(np.arange(0, 16001, 2000))\n",
    "plt.xlabel('Time') \n",
    "plt.ylabel('Load [MW]') \n",
    "plt.title('Load distribution on average working and non-working days')\n",
    "plt.legend()\n",
    "plt.savefig('Load distribution on average working and non-working days')\n",
    "plt.show() "
   ]
  },
  {
   "cell_type": "markdown",
   "metadata": {},
   "source": [
    "# Estimate maximum load"
   ]
  },
  {
   "cell_type": "markdown",
   "metadata": {},
   "source": [
    "This only has been used after running the code without using the scale factor. The maximum of the average load (1441.142857142857) serves as input to the scale factor. After that, the code is run again to save the results."
   ]
  },
  {
   "cell_type": "code",
   "execution_count": 31,
   "metadata": {},
   "outputs": [
    {
     "data": {
      "text/plain": [
       "17808.000000000004"
      ]
     },
     "execution_count": 31,
     "metadata": {},
     "output_type": "execute_result"
    }
   ],
   "source": [
    "max(list(average_load['Load [MW]']))"
   ]
  }
 ],
 "metadata": {
  "kernelspec": {
   "display_name": "Python 3",
   "language": "python",
   "name": "python3"
  },
  "language_info": {
   "codemirror_mode": {
    "name": "ipython",
    "version": 3
   },
   "file_extension": ".py",
   "mimetype": "text/x-python",
   "name": "python",
   "nbconvert_exporter": "python",
   "pygments_lexer": "ipython3",
   "version": "3.6.5"
  }
 },
 "nbformat": 4,
 "nbformat_minor": 2
}
