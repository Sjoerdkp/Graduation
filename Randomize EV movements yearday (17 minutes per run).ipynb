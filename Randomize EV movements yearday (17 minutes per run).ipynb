{
 "cells": [
  {
   "cell_type": "code",
   "execution_count": 1,
   "metadata": {},
   "outputs": [],
   "source": [
    "import pandas as pd\n",
    "import numpy as np"
   ]
  },
  {
   "cell_type": "markdown",
   "metadata": {},
   "source": [
    "# Input"
   ]
  },
  {
   "cell_type": "code",
   "execution_count": 2,
   "metadata": {},
   "outputs": [],
   "source": [
    "nr_EVs = 45000\n",
    "col = ['Yearday', 'Weekday', 'Workday', 'Time', 'Home', 'Work', 'Work_Visit', 'Bringing', 'Education', 'Shop', 'Visit', 'Wandering', 'Hobby', 'Leisure', 'Personal_Care', 'Other', 'Driving_to_Home', 'Driving_to_Work', 'Driving_to_Work_Visit', 'Driving_to_Bringing', 'Driving_to_Education', 'Driving_to_Shop', 'Driving_to_Visit', 'Driving_to_Wandering', 'Driving_to_Hobby', 'Driving_to_Leisure', 'Driving_to_Personal_Care', 'Driving_to_Other']"
   ]
  },
  {
   "cell_type": "code",
   "execution_count": 3,
   "metadata": {},
   "outputs": [],
   "source": [
    "EV_movements = pd.read_csv('EV all years yearday.csv')\n",
    "EV_movements = EV_movements.drop(['Unnamed: 0'], axis = 1)\n",
    "\n",
    "triplength = pd.read_csv('Triplength.csv')\n",
    "triplength = triplength.drop('Unnamed: 0', axis = 1)"
   ]
  },
  {
   "cell_type": "markdown",
   "metadata": {},
   "source": [
    "# Define function"
   ]
  },
  {
   "cell_type": "code",
   "execution_count": 4,
   "metadata": {},
   "outputs": [],
   "source": [
    "dict1 = {\n",
    "    'Home': [['Work', 'Home_to_Work_av', 'Home_to_Work_std'], ['Work_Visit', 'Home_to_Work_Visit_av', 'Home_to_Work_Visit_std'], ['Bringing', 'Home_to_Bringing_av', 'Home_to_Bringing_std'], ['Education', 'Home_to_Education_av', 'Home_to_Education_std'], ['Shop', 'Home_to_Shop_av', 'Home_to_Shop_std'], ['Visit', 'Home_to_Visit_av', 'Home_to_Visit_std'], ['Wandering', 'Home_to_Wandering_av', 'Home_to_Wandering_std'], ['Hobby', 'Home_to_Hobby_av', 'Home_to_Hobby_std'], ['Leisure', 'Home_to_Leisure_av', 'Home_to_Leisure_std'], ['Personal_Care', 'Home_to_Personal_Care_av', 'Home_to_Personal_Care_std'], ['Other', 'Home_to_Other_av', 'Home_to_Other_std'], ['Driving_to_Work', 'Home_to_Driving_to_Work_av', 'Home_to_Driving_to_Work_std'], ['Driving_to_Work_Visit', 'Home_to_Driving_to_Work_Visit_av', 'Home_to_Driving_to_Work_Visit_std'], ['Driving_to_Bringing', 'Home_to_Driving_to_Bringing_av', 'Home_to_Driving_to_Bringing_std'], ['Driving_to_Education', 'Home_to_Driving_to_Education_av', 'Home_to_Driving_to_Education_std'], ['Driving_to_Shop', 'Home_to_Driving_to_Shop_av', 'Home_to_Driving_to_Shop_std'], ['Driving_to_Visit', 'Home_to_Driving_to_Visit_av', 'Home_to_Driving_to_Visit_std'], ['Driving_to_Wandering', 'Home_to_Driving_to_Wandering_av', 'Home_to_Driving_to_Wandering_std'], ['Driving_to_Hobby', 'Home_to_Driving_to_Hobby_av', 'Home_to_Driving_to_Hobby_std'], ['Driving_to_Leisure', 'Home_to_Driving_to_Leisure_av', 'Home_to_Driving_to_Leisure_std'], ['Driving_to_Personal_Care', 'Home_to_Driving_to_Personal_Care_av', 'Home_to_Driving_to_Personal_Care_std'], ['Driving_to_Other', 'Home_to_Driving_to_Other_av', 'Home_to_Driving_to_Other_std']],\n",
    "    'Work': [['Home', 'Work_to_Home_av', 'Work_to_Home_std'], ['Work_Visit', 'Work_to_Work_Visit_av', 'Work_to_Work_Visit_std'], ['Bringing', 'Work_to_Bringing_av', 'Work_to_Bringing_std'], ['Education', 'Work_to_Education_av', 'Work_to_Education_std'], ['Shop', 'Work_to_Shop_av', 'Work_to_Shop_std'], ['Visit', 'Work_to_Visit_av', 'Work_to_Visit_std'], ['Wandering', 'Work_to_Wandering_av', 'Work_to_Wandering_std'], ['Hobby', 'Work_to_Hobby_av', 'Work_to_Hobby_std'], ['Leisure', 'Work_to_Leisure_av', 'Work_to_Leisure_std'], ['Personal_Care', 'Work_to_Personal_Care_av', 'Work_to_Personal_Care_std'], ['Other', 'Work_to_Other_av', 'Work_to_Other_std'], ['Driving_to_Home', 'Work_to_Driving_to_Home_av', 'Work_to_Driving_to_Home_std'], ['Driving_to_Work_Visit', 'Work_to_Driving_to_Work_Visit_av', 'Work_to_Driving_to_Work_Visit_std'], ['Driving_to_Bringing', 'Work_to_Driving_to_Bringing_av', 'Work_to_Driving_to_Bringing_std'], ['Driving_to_Education', 'Work_to_Driving_to_Education_av', 'Work_to_Driving_to_Education_std'], ['Driving_to_Shop', 'Work_to_Driving_to_Shop_av', 'Work_to_Driving_to_Shop_std'], ['Driving_to_Visit', 'Work_to_Driving_to_Visit_av', 'Work_to_Driving_to_Visit_std'], ['Driving_to_Wandering', 'Work_to_Driving_to_Wandering_av', 'Work_to_Driving_to_Wandering_std'], ['Driving_to_Hobby', 'Work_to_Driving_to_Hobby_av', 'Work_to_Driving_to_Hobby_std'], ['Driving_to_Leisure', 'Work_to_Driving_to_Leisure_av', 'Work_to_Driving_to_Leisure_std'], ['Driving_to_Personal_Care', 'Work_to_Driving_to_Personal_Care_av', 'Work_to_Driving_to_Personal_Care_std'], ['Driving_to_Other', 'Work_to_Driving_to_Other_av', 'Work_to_Driving_to_Other_std']],\n",
    "    'Work_Visit': [['Home', 'Work_Visit_to_Home_av', 'Work_Visit_to_Home_std'], ['Work', 'Work_Visit_to_Work_av', 'Work_Visit_to_Work_std'], ['Bringing', 'Work_Visit_to_Bringing_av', 'Work_Visit_to_Bringing_std'], ['Education', 'Work_Visit_to_Education_av', 'Work_Visit_to_Education_std'], ['Shop', 'Work_Visit_to_Shop_av', 'Work_Visit_to_Shop_std'], ['Visit', 'Work_Visit_to_Visit_av', 'Work_Visit_to_Visit_std'], ['Wandering', 'Work_Visit_to_Wandering_av', 'Work_Visit_to_Wandering_std'], ['Hobby', 'Work_Visit_to_Hobby_av', 'Work_Visit_to_Hobby_std'], ['Leisure', 'Work_Visit_to_Leisure_av', 'Work_Visit_to_Leisure_std'], ['Personal_Care', 'Work_Visit_to_Personal_Care_av', 'Work_Visit_to_Personal_Care_std'], ['Other', 'Work_Visit_to_Other_av', 'Work_Visit_to_Other_std'], ['Driving_to_Home', 'Work_Visit_to_Driving_to_Home_av', 'Work_Visit_to_Driving_to_Home_std'], ['Driving_to_Work', 'Work_Visit_to_Driving_to_Work_av', 'Work_Visit_to_Driving_to_Work_std'], ['Driving_to_Bringing', 'Work_Visit_to_Driving_to_Bringing_av', 'Work_Visit_to_Driving_to_Bringing_std'], ['Driving_to_Education', 'Work_Visit_to_Driving_to_Education_av', 'Work_Visit_to_Driving_to_Education_std'], ['Driving_to_Shop', 'Work_Visit_to_Driving_to_Shop_av', 'Work_Visit_to_Driving_to_Shop_std'], ['Driving_to_Visit', 'Work_Visit_to_Driving_to_Visit_av', 'Work_Visit_to_Driving_to_Visit_std'], ['Driving_to_Wandering', 'Work_Visit_to_Driving_to_Wandering_av', 'Work_Visit_to_Driving_to_Wandering_std'], ['Driving_to_Hobby', 'Work_Visit_to_Driving_to_Hobby_av', 'Work_Visit_to_Driving_to_Hobby_std'], ['Driving_to_Leisure', 'Work_Visit_to_Driving_to_Leisure_av', 'Work_Visit_to_Driving_to_Leisure_std'], ['Driving_to_Personal_Care', 'Work_Visit_to_Driving_to_Personal_Care_av', 'Work_Visit_to_Driving_to_Personal_Care_std'], ['Driving_to_Other', 'Work_Visit_to_Driving_to_Other_av', 'Work_Visit_to_Driving_to_Other_std']],\n",
    "    'Bringing': [['Home', 'Bringing_to_Home_av', 'Bringing_to_Home_std'], ['Work', 'Bringing_to_Work_av', 'Bringing_to_Work_std'], ['Work_Visit', 'Bringing_to_Work_Visit_av', 'Bringing_to_Work_Visit_std'], ['Education', 'Bringing_to_Education_av', 'Bringing_to_Education_std'], ['Shop', 'Bringing_to_Shop_av', 'Bringing_to_Shop_std'], ['Visit', 'Bringing_to_Visit_av', 'Bringing_to_Visit_std'], ['Wandering', 'Bringing_to_Wandering_av', 'Bringing_to_Wandering_std'], ['Hobby', 'Bringing_to_Hobby_av', 'Bringing_to_Hobby_std'], ['Leisure', 'Bringing_to_Leisure_av', 'Bringing_to_Leisure_std'], ['Personal_Care', 'Bringing_to_Personal_Care_av', 'Bringing_to_Personal_Care_std'], ['Other', 'Bringing_to_Other_av', 'Bringing_to_Other_std'], ['Driving_to_Home', 'Bringing_to_Driving_to_Home_av', 'Bringing_to_Driving_to_Home_std'], ['Driving_to_Work', 'Bringing_to_Driving_to_Work_av', 'Bringing_to_Driving_to_Work_std'], ['Driving_to_Work_Visit', 'Bringing_to_Driving_to_Work_Visit_av', 'Bringing_to_Driving_to_Work_Visit_std'], ['Driving_to_Education', 'Bringing_to_Driving_to_Education_av', 'Bringing_to_Driving_to_Education_std'], ['Driving_to_Shop', 'Bringing_to_Driving_to_Shop_av', 'Bringing_to_Driving_to_Shop_std'], ['Driving_to_Visit', 'Bringing_to_Driving_to_Visit_av', 'Bringing_to_Driving_to_Visit_std'], ['Driving_to_Wandering', 'Bringing_to_Driving_to_Wandering_av', 'Bringing_to_Driving_to_Wandering_std'], ['Driving_to_Hobby', 'Bringing_to_Driving_to_Hobby_av', 'Bringing_to_Driving_to_Hobby_std'], ['Driving_to_Leisure', 'Bringing_to_Driving_to_Leisure_av', 'Bringing_to_Driving_to_Leisure_std'], ['Driving_to_Personal_Care', 'Bringing_to_Driving_to_Personal_Care_av', 'Bringing_to_Driving_to_Personal_Care_std'], ['Driving_to_Other', 'Bringing_to_Driving_to_Other_av', 'Bringing_to_Driving_to_Other_std']],\n",
    "    'Education': [['Home', 'Education_to_Home_av', 'Education_to_Home_std'], ['Work', 'Education_to_Work_av', 'Education_to_Work_std'], ['Work_Visit', 'Education_to_Work_Visit_av', 'Education_to_Work_Visit_std'], ['Bringing', 'Education_to_Bringing_av', 'Education_to_Bringing_std'], ['Shop', 'Education_to_Shop_av', 'Education_to_Shop_std'], ['Visit', 'Education_to_Visit_av', 'Education_to_Visit_std'], ['Wandering', 'Education_to_Wandering_av', 'Education_to_Wandering_std'], ['Hobby', 'Education_to_Hobby_av', 'Education_to_Hobby_std'], ['Leisure', 'Education_to_Leisure_av', 'Education_to_Leisure_std'], ['Personal_Care', 'Education_to_Personal_Care_av', 'Education_to_Personal_Care_std'], ['Other', 'Education_to_Other_av', 'Education_to_Other_std'], ['Driving_to_Home', 'Education_to_Driving_to_Home_av', 'Education_to_Driving_to_Home_std'], ['Driving_to_Work', 'Education_to_Driving_to_Work_av', 'Education_to_Driving_to_Work_std'], ['Driving_to_Work_Visit', 'Education_to_Driving_to_Work_Visit_av', 'Education_to_Driving_to_Work_Visit_std'], ['Driving_to_Bringing', 'Education_to_Driving_to_Bringing_av', 'Education_to_Driving_to_Bringing_std'], ['Driving_to_Shop', 'Education_to_Driving_to_Shop_av', 'Education_to_Driving_to_Shop_std'], ['Driving_to_Visit', 'Education_to_Driving_to_Visit_av', 'Education_to_Driving_to_Visit_std'], ['Driving_to_Wandering', 'Education_to_Driving_to_Wandering_av', 'Education_to_Driving_to_Wandering_std'], ['Driving_to_Hobby', 'Education_to_Driving_to_Hobby_av', 'Education_to_Driving_to_Hobby_std'], ['Driving_to_Leisure', 'Education_to_Driving_to_Leisure_av', 'Education_to_Driving_to_Leisure_std'], ['Driving_to_Personal_Care', 'Education_to_Driving_to_Personal_Care_av', 'Education_to_Driving_to_Personal_Care_std'], ['Driving_to_Other', 'Education_to_Driving_to_Other_av', 'Education_to_Driving_to_Other_std']],\n",
    "    'Shop': [['Home', 'Shop_to_Home_av', 'Shop_to_Home_std'], ['Work', 'Shop_to_Work_av', 'Shop_to_Work_std'], ['Work_Visit', 'Shop_to_Work_Visit_av', 'Shop_to_Work_Visit_std'], ['Bringing', 'Shop_to_Bringing_av', 'Shop_to_Bringing_std'], ['Education', 'Shop_to_Education_av', 'Shop_to_Education_std'], ['Visit', 'Shop_to_Visit_av', 'Shop_to_Visit_std'], ['Wandering', 'Shop_to_Wandering_av', 'Shop_to_Wandering_std'], ['Hobby', 'Shop_to_Hobby_av', 'Shop_to_Hobby_std'], ['Leisure', 'Shop_to_Leisure_av', 'Shop_to_Leisure_std'], ['Personal_Care', 'Shop_to_Personal_Care_av', 'Shop_to_Personal_Care_std'], ['Other', 'Shop_to_Other_av', 'Shop_to_Other_std'], ['Driving_to_Home', 'Shop_to_Driving_to_Home_av', 'Shop_to_Driving_to_Home_std'], ['Driving_to_Work', 'Shop_to_Driving_to_Work_av', 'Shop_to_Driving_to_Work_std'], ['Driving_to_Work_Visit', 'Shop_to_Driving_to_Work_Visit_av', 'Shop_to_Driving_to_Work_Visit_std'], ['Driving_to_Bringing', 'Shop_to_Driving_to_Bringing_av', 'Shop_to_Driving_to_Bringing_std'], ['Driving_to_Education', 'Shop_to_Driving_to_Education_av', 'Shop_to_Driving_to_Education_std'], ['Driving_to_Visit', 'Shop_to_Driving_to_Visit_av', 'Shop_to_Driving_to_Visit_std'], ['Driving_to_Wandering', 'Shop_to_Driving_to_Wandering_av', 'Shop_to_Driving_to_Wandering_std'], ['Driving_to_Hobby', 'Shop_to_Driving_to_Hobby_av', 'Shop_to_Driving_to_Hobby_std'], ['Driving_to_Leisure', 'Shop_to_Driving_to_Leisure_av', 'Shop_to_Driving_to_Leisure_std'], ['Driving_to_Personal_Care', 'Shop_to_Driving_to_Personal_Care_av', 'Shop_to_Driving_to_Personal_Care_std'], ['Driving_to_Other', 'Shop_to_Driving_to_Other_av', 'Shop_to_Driving_to_Other_std']],\n",
    "    'Visit': [['Home', 'Visit_to_Home_av', 'Visit_to_Home_std'], ['Work', 'Visit_to_Work_av', 'Visit_to_Work_std'], ['Work_Visit', 'Visit_to_Work_Visit_av', 'Visit_to_Work_Visit_std'], ['Bringing', 'Visit_to_Bringing_av', 'Visit_to_Bringing_std'], ['Education', 'Visit_to_Education_av', 'Visit_to_Education_std'], ['Shop', 'Visit_to_Shop_av', 'Visit_to_Shop_std'], ['Wandering', 'Visit_to_Wandering_av', 'Visit_to_Wandering_std'], ['Hobby', 'Visit_to_Hobby_av', 'Visit_to_Hobby_std'], ['Leisure', 'Visit_to_Leisure_av', 'Visit_to_Leisure_std'], ['Personal_Care', 'Visit_to_Personal_Care_av', 'Visit_to_Personal_Care_std'], ['Other', 'Visit_to_Other_av', 'Visit_to_Other_std'], ['Driving_to_Home', 'Visit_to_Driving_to_Home_av', 'Visit_to_Driving_to_Home_std'], ['Driving_to_Work', 'Visit_to_Driving_to_Work_av', 'Visit_to_Driving_to_Work_std'], ['Driving_to_Work_Visit', 'Visit_to_Driving_to_Work_Visit_av', 'Visit_to_Driving_to_Work_Visit_std'], ['Driving_to_Bringing', 'Visit_to_Driving_to_Bringing_av', 'Visit_to_Driving_to_Bringing_std'], ['Driving_to_Education', 'Visit_to_Driving_to_Education_av', 'Visit_to_Driving_to_Education_std'], ['Driving_to_Shop', 'Visit_to_Driving_to_Shop_av', 'Visit_to_Driving_to_Shop_std'], ['Driving_to_Wandering', 'Visit_to_Driving_to_Wandering_av', 'Visit_to_Driving_to_Wandering_std'], ['Driving_to_Hobby', 'Visit_to_Driving_to_Hobby_av', 'Visit_to_Driving_to_Hobby_std'], ['Driving_to_Leisure', 'Visit_to_Driving_to_Leisure_av', 'Visit_to_Driving_to_Leisure_std'], ['Driving_to_Personal_Care', 'Visit_to_Driving_to_Personal_Care_av', 'Visit_to_Driving_to_Personal_Care_std'], ['Driving_to_Other', 'Visit_to_Driving_to_Other_av', 'Visit_to_Driving_to_Other_std']],\n",
    "    'Wandering': [['Home', 'Wandering_to_Home_av', 'Wandering_to_Home_std'], ['Work', 'Wandering_to_Work_av', 'Wandering_to_Work_std'], ['Work_Visit', 'Wandering_to_Work_Visit_av', 'Wandering_to_Work_Visit_std'], ['Bringing', 'Wandering_to_Bringing_av', 'Wandering_to_Bringing_std'], ['Education', 'Wandering_to_Education_av', 'Wandering_to_Education_std'], ['Shop', 'Wandering_to_Shop_av', 'Wandering_to_Shop_std'], ['Visit', 'Wandering_to_Visit_av', 'Wandering_to_Visit_std'], ['Hobby', 'Wandering_to_Hobby_av', 'Wandering_to_Hobby_std'], ['Leisure', 'Wandering_to_Leisure_av', 'Wandering_to_Leisure_std'], ['Personal_Care', 'Wandering_to_Personal_Care_av', 'Wandering_to_Personal_Care_std'], ['Other', 'Wandering_to_Other_av', 'Wandering_to_Other_std'], ['Driving_to_Home', 'Wandering_to_Driving_to_Home_av', 'Wandering_to_Driving_to_Home_std'], ['Driving_to_Work', 'Wandering_to_Driving_to_Work_av', 'Wandering_to_Driving_to_Work_std'], ['Driving_to_Work_Visit', 'Wandering_to_Driving_to_Work_Visit_av', 'Wandering_to_Driving_to_Work_Visit_std'], ['Driving_to_Bringing', 'Wandering_to_Driving_to_Bringing_av', 'Wandering_to_Driving_to_Bringing_std'], ['Driving_to_Education', 'Wandering_to_Driving_to_Education_av', 'Wandering_to_Driving_to_Education_std'], ['Driving_to_Shop', 'Wandering_to_Driving_to_Shop_av', 'Wandering_to_Driving_to_Shop_std'], ['Driving_to_Visit', 'Wandering_to_Driving_to_Visit_av', 'Wandering_to_Driving_to_Visit_std'], ['Driving_to_Hobby', 'Wandering_to_Driving_to_Hobby_av', 'Wandering_to_Driving_to_Hobby_std'], ['Driving_to_Leisure', 'Wandering_to_Driving_to_Leisure_av', 'Wandering_to_Driving_to_Leisure_std'], ['Driving_to_Personal_Care', 'Wandering_to_Driving_to_Personal_Care_av', 'Wandering_to_Driving_to_Personal_Care_std'], ['Driving_to_Other', 'Wandering_to_Driving_to_Other_av', 'Wandering_to_Driving_to_Other_std']],\n",
    "    'Hobby': [['Home', 'Hobby_to_Home_av', 'Hobby_to_Home_std'], ['Work', 'Hobby_to_Work_av', 'Hobby_to_Work_std'], ['Work_Visit', 'Hobby_to_Work_Visit_av', 'Hobby_to_Work_Visit_std'], ['Bringing', 'Hobby_to_Bringing_av', 'Hobby_to_Bringing_std'], ['Education', 'Hobby_to_Education_av', 'Hobby_to_Education_std'], ['Shop', 'Hobby_to_Shop_av', 'Hobby_to_Shop_std'], ['Visit', 'Hobby_to_Visit_av', 'Hobby_to_Visit_std'], ['Wandering', 'Hobby_to_Wandering_av', 'Hobby_to_Wandering_std'], ['Leisure', 'Hobby_to_Leisure_av', 'Hobby_to_Leisure_std'], ['Personal_Care', 'Hobby_to_Personal_Care_av', 'Hobby_to_Personal_Care_std'], ['Other', 'Hobby_to_Other_av', 'Hobby_to_Other_std'], ['Driving_to_Home', 'Hobby_to_Driving_to_Home_av', 'Hobby_to_Driving_to_Home_std'], ['Driving_to_Work', 'Hobby_to_Driving_to_Work_av', 'Hobby_to_Driving_to_Work_std'], ['Driving_to_Work_Visit', 'Hobby_to_Driving_to_Work_Visit_av', 'Hobby_to_Driving_to_Work_Visit_std'], ['Driving_to_Bringing', 'Hobby_to_Driving_to_Bringing_av', 'Hobby_to_Driving_to_Bringing_std'], ['Driving_to_Education', 'Hobby_to_Driving_to_Education_av', 'Hobby_to_Driving_to_Education_std'], ['Driving_to_Shop', 'Hobby_to_Driving_to_Shop_av', 'Hobby_to_Driving_to_Shop_std'], ['Driving_to_Visit', 'Hobby_to_Driving_to_Visit_av', 'Hobby_to_Driving_to_Visit_std'], ['Driving_to_Wandering', 'Hobby_to_Driving_to_Wandering_av', 'Hobby_to_Driving_to_Wandering_std'], ['Driving_to_Leisure', 'Hobby_to_Driving_to_Leisure_av', 'Hobby_to_Driving_to_Leisure_std'], ['Driving_to_Personal_Care', 'Hobby_to_Driving_to_Personal_Care_av', 'Hobby_to_Driving_to_Personal_Care_std'], ['Driving_to_Other', 'Hobby_to_Driving_to_Other_av', 'Hobby_to_Driving_to_Other_std']],\n",
    "    'Leisure': [['Home', 'Leisure_to_Home_av', 'Leisure_to_Home_std'], ['Work', 'Leisure_to_Work_av', 'Leisure_to_Work_std'], ['Work_Visit', 'Leisure_to_Work_Visit_av', 'Leisure_to_Work_Visit_std'], ['Bringing', 'Leisure_to_Bringing_av', 'Leisure_to_Bringing_std'], ['Education', 'Leisure_to_Education_av', 'Leisure_to_Education_std'], ['Shop', 'Leisure_to_Shop_av', 'Leisure_to_Shop_std'], ['Visit', 'Leisure_to_Visit_av', 'Leisure_to_Visit_std'], ['Wandering', 'Leisure_to_Wandering_av', 'Leisure_to_Wandering_std'], ['Hobby', 'Leisure_to_Hobby_av', 'Leisure_to_Hobby_std'], ['Personal_Care', 'Leisure_to_Personal_Care_av', 'Leisure_to_Personal_Care_std'], ['Other', 'Leisure_to_Other_av', 'Leisure_to_Other_std'], ['Driving_to_Home', 'Leisure_to_Driving_to_Home_av', 'Leisure_to_Driving_to_Home_std'], ['Driving_to_Work', 'Leisure_to_Driving_to_Work_av', 'Leisure_to_Driving_to_Work_std'], ['Driving_to_Work_Visit', 'Leisure_to_Driving_to_Work_Visit_av', 'Leisure_to_Driving_to_Work_Visit_std'], ['Driving_to_Bringing', 'Leisure_to_Driving_to_Bringing_av', 'Leisure_to_Driving_to_Bringing_std'], ['Driving_to_Education', 'Leisure_to_Driving_to_Education_av', 'Leisure_to_Driving_to_Education_std'], ['Driving_to_Shop', 'Leisure_to_Driving_to_Shop_av', 'Leisure_to_Driving_to_Shop_std'], ['Driving_to_Visit', 'Leisure_to_Driving_to_Visit_av', 'Leisure_to_Driving_to_Visit_std'], ['Driving_to_Wandering', 'Leisure_to_Driving_to_Wandering_av', 'Leisure_to_Driving_to_Wandering_std'], ['Driving_to_Hobby', 'Leisure_to_Driving_to_Hobby_av', 'Leisure_to_Driving_to_Hobby_std'], ['Driving_to_Personal_Care', 'Leisure_to_Driving_to_Personal_Care_av', 'Leisure_to_Driving_to_Personal_Care_std'], ['Driving_to_Other', 'Leisure_to_Driving_to_Other_av', 'Leisure_to_Driving_to_Other_std']],\n",
    "    'Personal_Care': [['Home', 'Personal_Care_to_Home_av', 'Personal_Care_to_Home_std'], ['Work', 'Personal_Care_to_Work_av', 'Personal_Care_to_Work_std'], ['Work_Visit', 'Personal_Care_to_Work_Visit_av', 'Personal_Care_to_Work_Visit_std'], ['Bringing', 'Personal_Care_to_Bringing_av', 'Personal_Care_to_Bringing_std'], ['Education', 'Personal_Care_to_Education_av', 'Personal_Care_to_Education_std'], ['Shop', 'Personal_Care_to_Shop_av', 'Personal_Care_to_Shop_std'], ['Visit', 'Personal_Care_to_Visit_av', 'Personal_Care_to_Visit_std'], ['Wandering', 'Personal_Care_to_Wandering_av', 'Personal_Care_to_Wandering_std'], ['Hobby', 'Personal_Care_to_Hobby_av', 'Personal_Care_to_Hobby_std'], ['Leisure', 'Personal_Care_to_Leisure_av', 'Personal_Care_to_Leisure_std'], ['Other', 'Personal_Care_to_Other_av', 'Personal_Care_to_Other_std'], ['Driving_to_Home', 'Personal_Care_to_Driving_to_Home_av', 'Personal_Care_to_Driving_to_Home_std'], ['Driving_to_Work', 'Personal_Care_to_Driving_to_Work_av', 'Personal_Care_to_Driving_to_Work_std'], ['Driving_to_Work_Visit', 'Personal_Care_to_Driving_to_Work_Visit_av', 'Personal_Care_to_Driving_to_Work_Visit_std'], ['Driving_to_Bringing', 'Personal_Care_to_Driving_to_Bringing_av', 'Personal_Care_to_Driving_to_Bringing_std'], ['Driving_to_Education', 'Personal_Care_to_Driving_to_Education_av', 'Personal_Care_to_Driving_to_Education_std'], ['Driving_to_Shop', 'Personal_Care_to_Driving_to_Shop_av', 'Personal_Care_to_Driving_to_Shop_std'], ['Driving_to_Visit', 'Personal_Care_to_Driving_to_Visit_av', 'Personal_Care_to_Driving_to_Visit_std'], ['Driving_to_Wandering', 'Personal_Care_to_Driving_to_Wandering_av', 'Personal_Care_to_Driving_to_Wandering_std'], ['Driving_to_Hobby', 'Personal_Care_to_Driving_to_Hobby_av', 'Personal_Care_to_Driving_to_Hobby_std'], ['Driving_to_Leisure', 'Personal_Care_to_Driving_to_Leisure_av', 'Personal_Care_to_Driving_to_Leisure_std'], ['Driving_to_Other', 'Personal_Care_to_Driving_to_Other_av', 'Personal_Care_to_Driving_to_Other_std']],\n",
    "    'Other': [['Home', 'Other_to_Home_av', 'Other_to_Home_std'], ['Work', 'Other_to_Work_av', 'Other_to_Work_std'], ['Work_Visit', 'Other_to_Work_Visit_av', 'Other_to_Work_Visit_std'], ['Bringing', 'Other_to_Bringing_av', 'Other_to_Bringing_std'], ['Education', 'Other_to_Education_av', 'Other_to_Education_std'], ['Shop', 'Other_to_Shop_av', 'Other_to_Shop_std'], ['Visit', 'Other_to_Visit_av', 'Other_to_Visit_std'], ['Wandering', 'Other_to_Wandering_av', 'Other_to_Wandering_std'], ['Hobby', 'Other_to_Hobby_av', 'Other_to_Hobby_std'], ['Leisure', 'Other_to_Leisure_av', 'Other_to_Leisure_std'], ['Personal_Care', 'Other_to_Personal_Care_av', 'Other_to_Personal_Care_std'], ['Driving_to_Home', 'Other_to_Driving_to_Home_av', 'Other_to_Driving_to_Home_std'], ['Driving_to_Work', 'Other_to_Driving_to_Work_av', 'Other_to_Driving_to_Work_std'], ['Driving_to_Work_Visit', 'Other_to_Driving_to_Work_Visit_av', 'Other_to_Driving_to_Work_Visit_std'], ['Driving_to_Bringing', 'Other_to_Driving_to_Bringing_av', 'Other_to_Driving_to_Bringing_std'], ['Driving_to_Education', 'Other_to_Driving_to_Education_av', 'Other_to_Driving_to_Education_std'], ['Driving_to_Shop', 'Other_to_Driving_to_Shop_av', 'Other_to_Driving_to_Shop_std'], ['Driving_to_Visit', 'Other_to_Driving_to_Visit_av', 'Other_to_Driving_to_Visit_std'], ['Driving_to_Wandering', 'Other_to_Driving_to_Wandering_av', 'Other_to_Driving_to_Wandering_std'], ['Driving_to_Hobby', 'Other_to_Driving_to_Hobby_av', 'Other_to_Driving_to_Hobby_std'], ['Driving_to_Leisure', 'Other_to_Driving_to_Leisure_av', 'Other_to_Driving_to_Leisure_std'], ['Driving_to_Personal_Care', 'Other_to_Driving_to_Personal_Care_av', 'Other_to_Driving_to_Personal_Care_std']],\n",
    "}"
   ]
  },
  {
   "cell_type": "code",
   "execution_count": 5,
   "metadata": {},
   "outputs": [],
   "source": [
    "def randomize_EV_movements():\n",
    "# for test in [0]:\n",
    "    df1 = EV_movements\n",
    "    \n",
    "    for i in range(365):\n",
    "        df1.loc[i*96+1:(i+1)*96-1, 'Home':'Driving_to_Other'] = 0\n",
    "    for i in range(1, df1.shape[0]):\n",
    "        \n",
    "        # At 0:00, all EVs are set at home since trips after midnight have not been included in the data\n",
    "        if i%96 != 0:\n",
    "            \n",
    "            ## End trip (based on triplength)    \n",
    "            # In this calculation, the triplength of every EV is drawn from a normal distribution\n",
    "            number_of_EVs_arriving = max(0, round(df1.loc[i-1, 'Driving_to_Home'] * min(1, (15 / np.random.normal(triplength.loc[0, 'Average'], triplength.loc[0, 'Standard Deviation'], int(df1.loc[i-1, 'Driving_to_Home'])).mean()))))\n",
    "            df1.loc[i, 'Home'] = df1.loc[i-1, 'Home'] + number_of_EVs_arriving\n",
    "            df1.loc[i, 'Driving_to_Home'] = df1.loc[i-1, 'Driving_to_Home'] - number_of_EVs_arriving\n",
    "            \n",
    "            number_of_EVs_arriving = max(0, round(df1.loc[i-1, 'Driving_to_Work'] * min(1, (15 / np.random.normal(triplength.loc[1, 'Average'], triplength.loc[1, 'Standard Deviation'], int(df1.loc[i-1, 'Driving_to_Work'])).mean()))))\n",
    "            df1.loc[i, 'Work'] = df1.loc[i-1, 'Work'] + number_of_EVs_arriving\n",
    "            df1.loc[i, 'Driving_to_Work'] = df1.loc[i-1, 'Driving_to_Work'] - number_of_EVs_arriving\n",
    "                \n",
    "            number_of_EVs_arriving = max(0, round(df1.loc[i-1, 'Driving_to_Work_Visit'] * min(1, (15 / np.random.normal(triplength.loc[2, 'Average'], triplength.loc[2, 'Standard Deviation'], int(df1.loc[i-1, 'Driving_to_Work_Visit'])).mean()))))\n",
    "            df1.loc[i, 'Work_Visit'] = df1.loc[i-1, 'Work_Visit'] + number_of_EVs_arriving\n",
    "            df1.loc[i, 'Driving_to_Work_Visit'] = df1.loc[i-1, 'Driving_to_Work_Visit'] - number_of_EVs_arriving\n",
    "                \n",
    "            number_of_EVs_arriving = max(0, round(df1.loc[i-1, 'Driving_to_Bringing'] * min(1, (15 / np.random.normal(triplength.loc[3, 'Average'], triplength.loc[3, 'Standard Deviation'], int(df1.loc[i-1, 'Driving_to_Bringing'])).mean()))))\n",
    "            df1.loc[i, 'Bringing'] = df1.loc[i-1, 'Bringing'] + number_of_EVs_arriving\n",
    "            df1.loc[i, 'Driving_to_Bringing'] = df1.loc[i-1, 'Driving_to_Bringing'] - number_of_EVs_arriving\n",
    "                \n",
    "            number_of_EVs_arriving = max(0, round(df1.loc[i-1, 'Driving_to_Education'] * min(1, (15 / np.random.normal(triplength.loc[4, 'Average'], triplength.loc[4, 'Standard Deviation'], int(df1.loc[i-1, 'Driving_to_Education'])).mean()))))\n",
    "            df1.loc[i, 'Education'] = df1.loc[i-1, 'Education'] + number_of_EVs_arriving\n",
    "            df1.loc[i, 'Driving_to_Education'] = df1.loc[i-1, 'Driving_to_Education'] - number_of_EVs_arriving\n",
    "                \n",
    "            number_of_EVs_arriving = max(0, round(df1.loc[i-1, 'Driving_to_Shop'] * min(1, (15 / np.random.normal(triplength.loc[5, 'Average'], triplength.loc[5, 'Standard Deviation'], int(df1.loc[i-1, 'Driving_to_Shop'])).mean()))))\n",
    "            df1.loc[i, 'Shop'] = df1.loc[i-1, 'Shop'] + number_of_EVs_arriving\n",
    "            df1.loc[i, 'Driving_to_Shop'] = df1.loc[i-1, 'Driving_to_Shop'] - number_of_EVs_arriving\n",
    "                \n",
    "            number_of_EVs_arriving = max(0, round(df1.loc[i-1, 'Driving_to_Visit'] * min(1, (15 / np.random.normal(triplength.loc[6, 'Average'], triplength.loc[6, 'Standard Deviation'], int(df1.loc[i-1, 'Driving_to_Visit'])).mean()))))\n",
    "            df1.loc[i, 'Visit'] = df1.loc[i-1, 'Visit'] + number_of_EVs_arriving\n",
    "            df1.loc[i, 'Driving_to_Visit'] = df1.loc[i-1, 'Driving_to_Visit'] - number_of_EVs_arriving\n",
    "                \n",
    "            number_of_EVs_arriving = max(0, round(df1.loc[i-1, 'Driving_to_Wandering'] * min(1, (15 / np.random.normal(triplength.loc[7, 'Average'], triplength.loc[7, 'Standard Deviation'], int(df1.loc[i-1, 'Driving_to_Wandering'])).mean()))))\n",
    "            df1.loc[i, 'Wandering'] = df1.loc[i-1, 'Wandering'] + number_of_EVs_arriving\n",
    "            df1.loc[i, 'Driving_to_Wandering'] = df1.loc[i-1, 'Driving_to_Wandering'] - number_of_EVs_arriving\n",
    "                \n",
    "            number_of_EVs_arriving = max(0, round(df1.loc[i-1, 'Driving_to_Hobby'] * min(1, (15 / np.random.normal(triplength.loc[8, 'Average'], triplength.loc[8, 'Standard Deviation'], int(df1.loc[i-1, 'Driving_to_Hobby'])).mean()))))\n",
    "            df1.loc[i, 'Hobby'] = df1.loc[i-1, 'Hobby'] + number_of_EVs_arriving\n",
    "            df1.loc[i, 'Driving_to_Hobby'] = df1.loc[i-1, 'Driving_to_Hobby'] - number_of_EVs_arriving\n",
    "                \n",
    "            number_of_EVs_arriving = max(0, round(df1.loc[i-1, 'Driving_to_Leisure'] * min(1, (15 / np.random.normal(triplength.loc[9, 'Average'], triplength.loc[9, 'Standard Deviation'], int(df1.loc[i-1, 'Driving_to_Leisure'])).mean()))))\n",
    "            df1.loc[i, 'Leisure'] = df1.loc[i-1, 'Leisure'] + number_of_EVs_arriving\n",
    "            df1.loc[i, 'Driving_to_Leisure'] = df1.loc[i-1, 'Driving_to_Leisure'] - number_of_EVs_arriving\n",
    "                \n",
    "            number_of_EVs_arriving = max(0, round(df1.loc[i-1, 'Driving_to_Personal_Care'] * min(1, (15 / np.random.normal(triplength.loc[10, 'Average'], triplength.loc[10, 'Standard Deviation'], int(df1.loc[i-1, 'Driving_to_Personal_Care'])).mean()))))\n",
    "            df1.loc[i, 'Personal_Care'] = df1.loc[i-1, 'Personal_Care'] + number_of_EVs_arriving\n",
    "            df1.loc[i, 'Driving_to_Personal_Care'] = df1.loc[i-1, 'Driving_to_Personal_Care'] - number_of_EVs_arriving\n",
    "                \n",
    "            number_of_EVs_arriving = max(0, round(df1.loc[i-1, 'Driving_to_Other'] * min(1, (15 / np.random.normal(triplength.loc[11, 'Average'], triplength.loc[11, 'Standard Deviation'], int(df1.loc[i-1, 'Driving_to_Other'])).mean()))))\n",
    "            df1.loc[i, 'Other'] = df1.loc[i-1, 'Other'] + number_of_EVs_arriving\n",
    "            df1.loc[i, 'Driving_to_Other'] = df1.loc[i-1, 'Driving_to_Other'] - number_of_EVs_arriving\n",
    "            \n",
    "            \n",
    "            ## Start trip (based on probabilities and standard deviations)\n",
    "            for j in df1.columns[list(df1.columns).index('Home'):list(df1.columns).index('Other')+1]:\n",
    "                for k in dict1[j]:\n",
    "                    if df1.loc[i, k[1]] > 0:\n",
    "                        number_of_EVs_departing = max(0, round(df1.loc[i, j] * min(1, np.random.normal(df1.loc[i, k[1]], df1.loc[i, k[2]]))))\n",
    "                        df1.loc[i, k[0]] = df1.loc[i, k[0]] + number_of_EVs_departing\n",
    "                        df1.loc[i, j] = df1.loc[i, j] - number_of_EVs_departing\n",
    "                \n",
    "    return df1"
   ]
  },
  {
   "cell_type": "markdown",
   "metadata": {},
   "source": [
    "# Perform runs"
   ]
  },
  {
   "cell_type": "code",
   "execution_count": 6,
   "metadata": {},
   "outputs": [
    {
     "name": "stderr",
     "output_type": "stream",
     "text": [
      "C:\\Users\\sjoer\\Anaconda3\\lib\\site-packages\\ipykernel_launcher.py:14: RuntimeWarning: Mean of empty slice.\n",
      "  \n",
      "C:\\Users\\sjoer\\Anaconda3\\lib\\site-packages\\numpy\\core\\_methods.py:80: RuntimeWarning: invalid value encountered in double_scalars\n",
      "  ret = ret.dtype.type(ret / rcount)\n",
      "C:\\Users\\sjoer\\Anaconda3\\lib\\site-packages\\ipykernel_launcher.py:18: RuntimeWarning: Mean of empty slice.\n",
      "C:\\Users\\sjoer\\Anaconda3\\lib\\site-packages\\ipykernel_launcher.py:22: RuntimeWarning: Mean of empty slice.\n",
      "C:\\Users\\sjoer\\Anaconda3\\lib\\site-packages\\ipykernel_launcher.py:26: RuntimeWarning: Mean of empty slice.\n",
      "C:\\Users\\sjoer\\Anaconda3\\lib\\site-packages\\ipykernel_launcher.py:30: RuntimeWarning: Mean of empty slice.\n",
      "C:\\Users\\sjoer\\Anaconda3\\lib\\site-packages\\ipykernel_launcher.py:34: RuntimeWarning: Mean of empty slice.\n",
      "C:\\Users\\sjoer\\Anaconda3\\lib\\site-packages\\ipykernel_launcher.py:38: RuntimeWarning: Mean of empty slice.\n",
      "C:\\Users\\sjoer\\Anaconda3\\lib\\site-packages\\ipykernel_launcher.py:42: RuntimeWarning: Mean of empty slice.\n",
      "C:\\Users\\sjoer\\Anaconda3\\lib\\site-packages\\ipykernel_launcher.py:46: RuntimeWarning: Mean of empty slice.\n",
      "C:\\Users\\sjoer\\Anaconda3\\lib\\site-packages\\ipykernel_launcher.py:50: RuntimeWarning: Mean of empty slice.\n",
      "C:\\Users\\sjoer\\Anaconda3\\lib\\site-packages\\ipykernel_launcher.py:54: RuntimeWarning: Mean of empty slice.\n",
      "C:\\Users\\sjoer\\Anaconda3\\lib\\site-packages\\ipykernel_launcher.py:58: RuntimeWarning: Mean of empty slice.\n",
      "C:\\Users\\sjoer\\Anaconda3\\lib\\site-packages\\ipykernel_launcher.py:7: SettingWithCopyWarning: \n",
      "A value is trying to be set on a copy of a slice from a DataFrame.\n",
      "Try using .loc[row_indexer,col_indexer] = value instead\n",
      "\n",
      "See the caveats in the documentation: http://pandas.pydata.org/pandas-docs/stable/indexing.html#indexing-view-versus-copy\n",
      "  import sys\n"
     ]
    }
   ],
   "source": [
    "nr_runs = 200\n",
    "\n",
    "for run in range(nr_runs):\n",
    "    a = randomize_EV_movements()\n",
    "    a = a[col]\n",
    "    for c in col[:2] + col[4:]:\n",
    "        a[c] = a[c].astype(int)\n",
    "    a.to_csv('Random EV ' + str(run+1) + '.csv')"
   ]
  },
  {
   "cell_type": "markdown",
   "metadata": {},
   "source": [
    "# Verify the runs"
   ]
  },
  {
   "cell_type": "code",
   "execution_count": null,
   "metadata": {},
   "outputs": [],
   "source": [
    "for i in range(1, nr_runs+1):\n",
    "    df2 = pd.read_csv('Random EV ' + str(i) + '.csv')\n",
    "    if set(list(df2.loc[:, 'Home':'Driving_to_Other'].sum(axis = 1))) != {45000}:\n",
    "        print('Run ' + str(i) + ' shows that the data frame is not valid')"
   ]
  },
  {
   "cell_type": "code",
   "execution_count": null,
   "metadata": {},
   "outputs": [],
   "source": [
    "for i in range(1, nr_runs+1):\n",
    "    df2 = pd.read_csv('Random EV ' + str(i) + '.csv')\n",
    "    for c in col[4:]:\n",
    "        if df2[df2[c] < 0].shape[0] > 0:\n",
    "            print('Run ' + str(i) + ' column ' + str(c) + ' shows that the data frame is not valid')"
   ]
  },
  {
   "cell_type": "markdown",
   "metadata": {},
   "source": [
    "# Write code for dict1"
   ]
  },
  {
   "cell_type": "code",
   "execution_count": null,
   "metadata": {},
   "outputs": [],
   "source": [
    "df = EV_movements"
   ]
  },
  {
   "cell_type": "code",
   "execution_count": null,
   "metadata": {
    "scrolled": true
   },
   "outputs": [],
   "source": [
    "for i in df.columns[list(df.columns).index('Home'):list(df.columns).index('Home') + 12]:\n",
    "    L = []\n",
    "    for j in df.columns[list(df.columns).index('Home'):list(df.columns).index('Home') + 24]:\n",
    "        if j != i and j != 'Driving_to_' + i:\n",
    "            L.append(j)\n",
    "    print(\"'\" + i + \"': [['\" + L[0] + \"', '\" + i + \"_to_\" + L[0] + \"_av', '\" + i + \"_to_\" + L[0] + \"_std'], ['\" + L[1] + \"', '\" + i + \"_to_\" + L[1] + \"_av', '\" + i + \"_to_\" + L[1] + \"_std'], ['\" + L[2] + \"', '\" + i + \"_to_\" + L[2] + \"_av', '\" + i + \"_to_\" + L[2] + \"_std'], ['\" + L[3] + \"', '\" + i + \"_to_\" + L[3] + \"_av', '\" + i + \"_to_\" + L[3] + \"_std'], ['\" + L[4] + \"', '\" + i + \"_to_\" + L[4] + \"_av', '\" + i + \"_to_\" + L[4] + \"_std'], ['\" + L[5] + \"', '\" + i + \"_to_\" + L[5] + \"_av', '\" + i + \"_to_\" + L[5] + \"_std'], ['\" + L[6] + \"', '\" + i + \"_to_\" + L[6] + \"_av', '\" + i + \"_to_\" + L[6] + \"_std'], ['\" + L[7] + \"', '\" + i + \"_to_\" + L[7] + \"_av', '\" + i + \"_to_\" + L[7] + \"_std'], ['\" + L[8] + \"', '\" + i + \"_to_\" + L[8] + \"_av', '\" + i + \"_to_\" + L[8] + \"_std'], ['\" + L[9] + \"', '\" + i + \"_to_\" + L[9] + \"_av', '\" + i + \"_to_\" + L[9] + \"_std'], ['\" + L[10] + \"', '\" + i + \"_to_\" + L[10] + \"_av', '\" + i + \"_to_\" + L[10] + \"_std'], ['\" + L[11] + \"', '\" + i + \"_to_\" + L[11] + \"_av', '\" + i + \"_to_\" + L[11] + \"_std'], ['\" + L[12] + \"', '\" + i + \"_to_\" + L[12] + \"_av', '\" + i + \"_to_\" + L[12] + \"_std'], ['\" + L[13] + \"', '\" + i + \"_to_\" + L[13] + \"_av', '\" + i + \"_to_\" + L[13] + \"_std'], ['\" + L[14] + \"', '\" + i + \"_to_\" + L[14] + \"_av', '\" + i + \"_to_\" + L[14] + \"_std'], ['\" + L[15] + \"', '\" + i + \"_to_\" + L[15] + \"_av', '\" + i + \"_to_\" + L[15] + \"_std'], ['\" + L[16] + \"', '\" + i + \"_to_\" + L[16] + \"_av', '\" + i + \"_to_\" + L[16] + \"_std'], ['\" + L[17] + \"', '\" + i + \"_to_\" + L[17] + \"_av', '\" + i + \"_to_\" + L[17] + \"_std'], ['\" + L[18] + \"', '\" + i + \"_to_\" + L[18] + \"_av', '\" + i + \"_to_\" + L[18] + \"_std'], ['\" + L[19] + \"', '\" + i + \"_to_\" + L[19] + \"_av', '\" + i + \"_to_\" + L[19] + \"_std'], ['\" + L[20] + \"', '\" + i + \"_to_\" + L[20] + \"_av', '\" + i + \"_to_\" + L[20] + \"_std'], ['\" + L[21] + \"', '\" + i + \"_to_\" + L[21] + \"_av', '\" + i + \"_to_\" + L[21] + \"_std']],\") "
   ]
  }
 ],
 "metadata": {
  "kernelspec": {
   "display_name": "Python 3",
   "language": "python",
   "name": "python3"
  },
  "language_info": {
   "codemirror_mode": {
    "name": "ipython",
    "version": 3
   },
   "file_extension": ".py",
   "mimetype": "text/x-python",
   "name": "python",
   "nbconvert_exporter": "python",
   "pygments_lexer": "ipython3",
   "version": "3.6.5"
  }
 },
 "nbformat": 4,
 "nbformat_minor": 2
}
