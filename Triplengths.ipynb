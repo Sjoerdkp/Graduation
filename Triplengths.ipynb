{
 "cells": [
  {
   "cell_type": "code",
   "execution_count": 1,
   "metadata": {},
   "outputs": [],
   "source": [
    "import pandas as pd\n",
    "import statistics"
   ]
  },
  {
   "cell_type": "code",
   "execution_count": 2,
   "metadata": {},
   "outputs": [],
   "source": [
    "Data2010 = pd.read_excel('OViN2010_Databestand.xlsx')\n",
    "Data2011 = pd.read_excel('OViN2011_Databestand.xlsx')\n",
    "Data2012 = pd.read_excel('OViN2012_Databestand.xlsx')\n",
    "Data2013 = pd.read_excel('OViN2013_Databestand.xlsx')\n",
    "Data2014 = pd.read_excel('OViN2014_Databestand.xlsx')\n",
    "Data2015 = pd.read_excel('OViN2015_Databestand.xlsx')\n",
    "Data2016 = pd.read_excel('OViN2016_Databestand.xlsx')\n",
    "Data2017 = pd.read_excel('OViN2017_Databestand.xlsx')"
   ]
  },
  {
   "cell_type": "code",
   "execution_count": 3,
   "metadata": {},
   "outputs": [
    {
     "name": "stderr",
     "output_type": "stream",
     "text": [
      "C:\\Users\\sjoer\\Anaconda3\\lib\\site-packages\\ipykernel_launcher.py:1: FutureWarning: Sorting because non-concatenation axis is not aligned. A future version\n",
      "of pandas will change to not sort by default.\n",
      "\n",
      "To accept the future behavior, pass 'sort=True'.\n",
      "\n",
      "To retain the current behavior and silence the warning, pass sort=False\n",
      "\n",
      "  \"\"\"Entry point for launching an IPython kernel.\n"
     ]
    }
   ],
   "source": [
    "df = pd.concat([Data2010, Data2011, Data2012, Data2013, Data2014, Data2015, Data2016, Data2017])"
   ]
  },
  {
   "cell_type": "code",
   "execution_count": 4,
   "metadata": {},
   "outputs": [],
   "source": [
    "# Select relevant columns\n",
    "df = df[['OPID', 'Weekdag', 'VertUur', 'AankUur', 'VertMin', 'AankMin', 'BVertUur', 'BVertMin', 'BAankUur', 'BAankMin', 'RVertUur', 'RVertMin', 'RAankUur', 'RAankMin', 'Rvm', 'Doel', 'Reisduur', 'ReisduurBL', 'RReisduur', 'RReisduurBL', 'Toer']]\n",
    "\n",
    "#Select only movements by car\n",
    "df = df[df['Rvm'] == 6]\n",
    "df = df[df['Toer'] == 0]\n",
    "\n",
    "# fill nan-values of a trip with the values of the whole movement\n",
    "df['RVertUur'] = df['RVertUur'].fillna(df['BVertUur'])\n",
    "df['RVertMin'] = df['RVertMin'].fillna(df['BVertMin'])\n",
    "df['RAankUur'] = df['RAankUur'].fillna(df['BAankUur'])\n",
    "df['RAankMin'] = df['RAankMin'].fillna(df['BAankMin'])\n",
    "\n",
    "df['RVertUur'] = df['RVertUur'].fillna(df['VertUur'])\n",
    "df['RVertMin'] = df['RVertMin'].fillna(df['VertMin'])\n",
    "df['RAankUur'] = df['RAankUur'].fillna(df['AankUur'])\n",
    "df['RAankMin'] = df['RAankMin'].fillna(df['AankMin'])\n",
    "\n",
    "df['RReisduur'] = df['RReisduur'].fillna(df['Reisduur'])\n",
    "df['RReisduurBL'] = df['RReisduurBL'].fillna(df['ReisduurBL'])\n",
    "\n",
    "# Drop nan-values\n",
    "df = df.dropna(subset=['RReisduur', 'RVertUur', 'RAankUur'])\n",
    "df = df.reset_index(drop = True)\n",
    "\n",
    "df['Total_Reisduur'] = df['RReisduur'] + df['RReisduurBL']"
   ]
  },
  {
   "cell_type": "code",
   "execution_count": 5,
   "metadata": {},
   "outputs": [],
   "source": [
    "# Combine the two goals bringing people and bringing goods\n",
    "df.loc[df['Doel'] == 6, 'Doel'] = 5"
   ]
  },
  {
   "cell_type": "code",
   "execution_count": 6,
   "metadata": {},
   "outputs": [],
   "source": [
    "# Make a dataframe that can be filled with the data\n",
    "triplength = pd.DataFrame(0, index = list(range(1, 4)) + [5] + list(range(7, 15)), columns = ['Average', 'Standard Deviation'])"
   ]
  },
  {
   "cell_type": "code",
   "execution_count": 7,
   "metadata": {},
   "outputs": [],
   "source": [
    "# Add the averages to the dataframe triplength\n",
    "triplength['Average'] = df.groupby(['Doel']).mean()['Total_Reisduur']"
   ]
  },
  {
   "cell_type": "code",
   "execution_count": 8,
   "metadata": {},
   "outputs": [],
   "source": [
    "# Add the standard deviations to the dataframe triplength\n",
    "for doel in triplength.index:\n",
    "    df1 = df[df['Doel'] == doel]\n",
    "    triplength.loc[doel, 'Standard Deviation'] = statistics.stdev(df1['Total_Reisduur'])"
   ]
  },
  {
   "cell_type": "code",
   "execution_count": 9,
   "metadata": {},
   "outputs": [
    {
     "data": {
      "text/html": [
       "<div>\n",
       "<style scoped>\n",
       "    .dataframe tbody tr th:only-of-type {\n",
       "        vertical-align: middle;\n",
       "    }\n",
       "\n",
       "    .dataframe tbody tr th {\n",
       "        vertical-align: top;\n",
       "    }\n",
       "\n",
       "    .dataframe thead th {\n",
       "        text-align: right;\n",
       "    }\n",
       "</style>\n",
       "<table border=\"1\" class=\"dataframe\">\n",
       "  <thead>\n",
       "    <tr style=\"text-align: right;\">\n",
       "      <th></th>\n",
       "      <th>Average</th>\n",
       "      <th>Standard Deviation</th>\n",
       "    </tr>\n",
       "  </thead>\n",
       "  <tbody>\n",
       "    <tr>\n",
       "      <th>1</th>\n",
       "      <td>24.345453</td>\n",
       "      <td>34.589046</td>\n",
       "    </tr>\n",
       "    <tr>\n",
       "      <th>2</th>\n",
       "      <td>28.940259</td>\n",
       "      <td>33.062731</td>\n",
       "    </tr>\n",
       "    <tr>\n",
       "      <th>3</th>\n",
       "      <td>44.017846</td>\n",
       "      <td>56.973958</td>\n",
       "    </tr>\n",
       "    <tr>\n",
       "      <th>5</th>\n",
       "      <td>17.013796</td>\n",
       "      <td>22.237043</td>\n",
       "    </tr>\n",
       "    <tr>\n",
       "      <th>7</th>\n",
       "      <td>25.885237</td>\n",
       "      <td>29.238809</td>\n",
       "    </tr>\n",
       "    <tr>\n",
       "      <th>8</th>\n",
       "      <td>14.573254</td>\n",
       "      <td>18.855424</td>\n",
       "    </tr>\n",
       "    <tr>\n",
       "      <th>9</th>\n",
       "      <td>26.885953</td>\n",
       "      <td>33.025130</td>\n",
       "    </tr>\n",
       "    <tr>\n",
       "      <th>10</th>\n",
       "      <td>37.090179</td>\n",
       "      <td>54.956612</td>\n",
       "    </tr>\n",
       "    <tr>\n",
       "      <th>11</th>\n",
       "      <td>19.303639</td>\n",
       "      <td>25.016012</td>\n",
       "    </tr>\n",
       "    <tr>\n",
       "      <th>12</th>\n",
       "      <td>28.267114</td>\n",
       "      <td>40.579902</td>\n",
       "    </tr>\n",
       "    <tr>\n",
       "      <th>13</th>\n",
       "      <td>19.748455</td>\n",
       "      <td>20.898204</td>\n",
       "    </tr>\n",
       "    <tr>\n",
       "      <th>14</th>\n",
       "      <td>57.481916</td>\n",
       "      <td>108.544017</td>\n",
       "    </tr>\n",
       "  </tbody>\n",
       "</table>\n",
       "</div>"
      ],
      "text/plain": [
       "      Average  Standard Deviation\n",
       "1   24.345453           34.589046\n",
       "2   28.940259           33.062731\n",
       "3   44.017846           56.973958\n",
       "5   17.013796           22.237043\n",
       "7   25.885237           29.238809\n",
       "8   14.573254           18.855424\n",
       "9   26.885953           33.025130\n",
       "10  37.090179           54.956612\n",
       "11  19.303639           25.016012\n",
       "12  28.267114           40.579902\n",
       "13  19.748455           20.898204\n",
       "14  57.481916          108.544017"
      ]
     },
     "execution_count": 9,
     "metadata": {},
     "output_type": "execute_result"
    }
   ],
   "source": [
    "triplength"
   ]
  },
  {
   "cell_type": "code",
   "execution_count": 10,
   "metadata": {},
   "outputs": [],
   "source": [
    "# Save the triplength\n",
    "triplength.to_csv('Triplength.csv')"
   ]
  },
  {
   "cell_type": "code",
   "execution_count": 2,
   "metadata": {},
   "outputs": [],
   "source": [
    "triplength = pd.read_csv('Triplength.csv').set_index('Unnamed: 0')\n",
    "del triplength.index.name"
   ]
  },
  {
   "cell_type": "code",
   "execution_count": 4,
   "metadata": {},
   "outputs": [
    {
     "data": {
      "text/html": [
       "<div>\n",
       "<style scoped>\n",
       "    .dataframe tbody tr th:only-of-type {\n",
       "        vertical-align: middle;\n",
       "    }\n",
       "\n",
       "    .dataframe tbody tr th {\n",
       "        vertical-align: top;\n",
       "    }\n",
       "\n",
       "    .dataframe thead th {\n",
       "        text-align: right;\n",
       "    }\n",
       "</style>\n",
       "<table border=\"1\" class=\"dataframe\">\n",
       "  <thead>\n",
       "    <tr style=\"text-align: right;\">\n",
       "      <th></th>\n",
       "      <th>Average</th>\n",
       "      <th>Standard Deviation</th>\n",
       "    </tr>\n",
       "  </thead>\n",
       "  <tbody>\n",
       "    <tr>\n",
       "      <th>Home</th>\n",
       "      <td>24.35</td>\n",
       "      <td>34.59</td>\n",
       "    </tr>\n",
       "    <tr>\n",
       "      <th>Work</th>\n",
       "      <td>28.94</td>\n",
       "      <td>33.06</td>\n",
       "    </tr>\n",
       "    <tr>\n",
       "      <th>Work_Visit</th>\n",
       "      <td>44.02</td>\n",
       "      <td>56.97</td>\n",
       "    </tr>\n",
       "    <tr>\n",
       "      <th>Bringing</th>\n",
       "      <td>17.01</td>\n",
       "      <td>22.24</td>\n",
       "    </tr>\n",
       "    <tr>\n",
       "      <th>Education</th>\n",
       "      <td>25.89</td>\n",
       "      <td>29.24</td>\n",
       "    </tr>\n",
       "    <tr>\n",
       "      <th>Shop</th>\n",
       "      <td>14.57</td>\n",
       "      <td>18.86</td>\n",
       "    </tr>\n",
       "    <tr>\n",
       "      <th>Visit</th>\n",
       "      <td>26.89</td>\n",
       "      <td>33.03</td>\n",
       "    </tr>\n",
       "    <tr>\n",
       "      <th>Wandering</th>\n",
       "      <td>37.09</td>\n",
       "      <td>54.96</td>\n",
       "    </tr>\n",
       "    <tr>\n",
       "      <th>Hobby</th>\n",
       "      <td>19.30</td>\n",
       "      <td>25.02</td>\n",
       "    </tr>\n",
       "    <tr>\n",
       "      <th>Leisure</th>\n",
       "      <td>28.27</td>\n",
       "      <td>40.58</td>\n",
       "    </tr>\n",
       "    <tr>\n",
       "      <th>Personal_Care</th>\n",
       "      <td>19.75</td>\n",
       "      <td>20.90</td>\n",
       "    </tr>\n",
       "    <tr>\n",
       "      <th>Other</th>\n",
       "      <td>57.48</td>\n",
       "      <td>108.54</td>\n",
       "    </tr>\n",
       "  </tbody>\n",
       "</table>\n",
       "</div>"
      ],
      "text/plain": [
       "               Average  Standard Deviation\n",
       "Home             24.35               34.59\n",
       "Work             28.94               33.06\n",
       "Work_Visit       44.02               56.97\n",
       "Bringing         17.01               22.24\n",
       "Education        25.89               29.24\n",
       "Shop             14.57               18.86\n",
       "Visit            26.89               33.03\n",
       "Wandering        37.09               54.96\n",
       "Hobby            19.30               25.02\n",
       "Leisure          28.27               40.58\n",
       "Personal_Care    19.75               20.90\n",
       "Other            57.48              108.54"
      ]
     },
     "execution_count": 4,
     "metadata": {},
     "output_type": "execute_result"
    }
   ],
   "source": [
    "# Set the goal as index for understandability of the dataframe and print the dataframe\n",
    "triplength.index = ['Home', 'Work', 'Work_Visit', 'Bringing', 'Education', 'Shop', 'Visit', 'Wandering', 'Hobby', 'Leisure', 'Personal_Care', 'Other']\n",
    "triplength.round(2)"
   ]
  },
  {
   "cell_type": "code",
   "execution_count": null,
   "metadata": {},
   "outputs": [],
   "source": []
  }
 ],
 "metadata": {
  "kernelspec": {
   "display_name": "Python 3",
   "language": "python",
   "name": "python3"
  },
  "language_info": {
   "codemirror_mode": {
    "name": "ipython",
    "version": 3
   },
   "file_extension": ".py",
   "mimetype": "text/x-python",
   "name": "python",
   "nbconvert_exporter": "python",
   "pygments_lexer": "ipython3",
   "version": "3.6.5"
  }
 },
 "nbformat": 4,
 "nbformat_minor": 2
}
