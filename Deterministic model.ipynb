{
 "cells": [
  {
   "cell_type": "code",
   "execution_count": 1,
   "metadata": {},
   "outputs": [],
   "source": [
    "import pandas as pd\n",
    "import random\n",
    "import os\n",
    "import time"
   ]
  },
  {
   "cell_type": "markdown",
   "metadata": {},
   "source": [
    "# Input"
   ]
  },
  {
   "cell_type": "code",
   "execution_count": 2,
   "metadata": {},
   "outputs": [],
   "source": [
    "bid_length = 16              # [ISP] Bid block length\n",
    "max_load = 20000             # [MW] Maximum load that can be transported to the network\n",
    "forecast_perc_av = 0.5       # Share of forecast that is based on the average EV behaviour, the rest is based on the behaviour of the previous week\n",
    "EV_compensation = 0.75       # Share of the income that is used as compensation for EV-owners\n",
    "fine_factor = 10             # This factor is 10 or 20, depending on whether the non-availability has been communicated to TenneT within 12 hours after the moment of delivery. Considering the fact that strategic behaviour is excluded from this research and that BSPs are obliged to report to TenneT if they are not able to fulfill their bid, it is assumed that aggregators will always report to TenneT within 12 hours and therefor the factor will be 10. \n",
    "\n",
    "# Charging properties\n",
    "average_charging_speed = 11  # [kW] Average charging speed\n",
    "flex_part = 0.1              # part of charging speed that is provided as flexibility\n",
    "\n",
    "# Share of EVs that charge at different locations instead of parking without connecting the car to the loading station\n",
    "charge_home = 0.9\n",
    "charge_work = 0.5 \n",
    "charge_work_visit = 0.2\n",
    "charge_bringing = 0\n",
    "charge_education = 0\n",
    "charge_shop = 0\n",
    "charge_visit = 0.05\n",
    "charge_wandering = 0\n",
    "charge_hobby = 0.05\n",
    "charge_leisure = 0.05\n",
    "charge_PC = 0\n",
    "charge_other = 0\n",
    "charge_list = [charge_home, charge_work, charge_work_visit, charge_bringing, charge_education, charge_shop, charge_visit, charge_wandering, charge_hobby, charge_leisure, charge_PC, charge_other]"
   ]
  },
  {
   "cell_type": "code",
   "execution_count": 3,
   "metadata": {},
   "outputs": [],
   "source": [
    "col = ['Yearday', 'Weekday', 'Workday', 'Time', 'Home', 'Work', 'Work_Visit', 'Bringing', 'Education', 'Shop', 'Visit', 'Wandering', 'Hobby', 'Leisure', 'Personal_Care', 'Other', 'Driving_to_Home', 'Driving_to_Work', 'Driving_to_Work_Visit', 'Driving_to_Bringing', 'Driving_to_Education', 'Driving_to_Shop', 'Driving_to_Visit', 'Driving_to_Wandering', 'Driving_to_Hobby', 'Driving_to_Leisure', 'Driving_to_Personal_Care', 'Driving_to_Other']"
   ]
  },
  {
   "cell_type": "markdown",
   "metadata": {},
   "source": [
    "# Import data"
   ]
  },
  {
   "cell_type": "markdown",
   "metadata": {},
   "source": [
    "#### Import and prepare average mobility"
   ]
  },
  {
   "cell_type": "code",
   "execution_count": 4,
   "metadata": {},
   "outputs": [],
   "source": [
    "EV_average = pd.read_csv('EV all years yearday.csv')\n",
    "EV_average = EV_average[col]\n",
    "\n",
    "# Calculate available MW for forecasting in the model\n",
    "EV_average['Available MW'] = 0\n",
    "counter = 0\n",
    "for c in EV_average.columns[list(EV_average.columns).index('Home'):list(EV_average.columns).index('Other')+1]:\n",
    "    EV_average['Available MW'] = EV_average['Available MW'] + (EV_average[c] * charge_list[counter] * average_charging_speed * flex_part / 1000)\n",
    "    counter += 1"
   ]
  },
  {
   "cell_type": "markdown",
   "metadata": {},
   "source": [
    "#### Import FCR- and load data"
   ]
  },
  {
   "cell_type": "code",
   "execution_count": 5,
   "metadata": {},
   "outputs": [],
   "source": [
    "## Import FCR-price data\n",
    "FCR_prices = pd.read_csv('FCR Settlement Price.csv').drop('Unnamed: 0', axis = 1)\n",
    "\n",
    "## Import Load data\n",
    "average_load = pd.read_csv('Loaddata average.csv').drop('Unnamed: 0', axis = 1)"
   ]
  },
  {
   "cell_type": "markdown",
   "metadata": {},
   "source": [
    "# Deterministic model"
   ]
  },
  {
   "cell_type": "code",
   "execution_count": 6,
   "metadata": {},
   "outputs": [],
   "source": [
    "special_days = [1, 125, 359, 360]"
   ]
  },
  {
   "cell_type": "code",
   "execution_count": 7,
   "metadata": {},
   "outputs": [],
   "source": [
    "df = EV_average\n",
    "\n",
    "df['Load'] = average_load['Load [MW]']\n",
    "df['Residual Load'] = max_load - df['Load']            # Residual load that is available for charging of EVs\n",
    "df['Residual Flex'] = flex_part * df['Residual Load']  # Max available capacity for flex, given the residual load on the network\n",
    "df['Residual Flex'] = df[['Residual Load', 'Residual Flex']].min(axis=1)  # To make sure never more FCR is bid than the residual load on the electricity network\n",
    "df['FCR Price'] = FCR_prices['Price']\n",
    "df['Forecast'] = 0\n",
    "df['Bid Size'] = 0\n",
    "    \n",
    "## Forecast & submit bids\n",
    "df['Forecast'] = df['Available MW']\n",
    "\n",
    "    \n",
    "## Include load limitations\n",
    "df['Forecast incl load'] = df[['Forecast', 'Residual Flex']].min(axis=1)\n",
    "df['Limitation'] = 'EV'\n",
    "df.loc[df['Forecast incl load'] != df['Forecast'], 'Limitation'] = 'Network'\n",
    "    \n",
    "for t in range(672, df.shape[0], bid_length):\n",
    "    df.loc[t:t+(bid_length-1), 'Bid Size'] = max(0, min(list(df.loc[t:t+(bid_length-1), 'Forecast incl load'])))\n",
    "    \n",
    "## Settlement and KPI's\n",
    "df['Fine'] = (df['Bid Size'] - df['Available MW'])\n",
    "df.loc[df.Fine < 0, 'Fine'] = 0\n",
    "df['Fine'] = df['Fine'] * fine_factor * df['FCR Price'] / 96\n",
    "df['Income'] = df['Bid Size'] * df['FCR Price'] / 96\n",
    "df['Costs'] = EV_compensation * df['Income']\n",
    "df['Profit'] = df['Income'] - df['Costs'] - df['Fine']\n",
    "    \n",
    "# Save kpi's to df_output\n",
    "df = df[672:]\n",
    "df_output = pd.DataFrame()\n",
    "df_output.loc[0, 'Average Available MW'] = sum(df['Available MW']) / len(df['Available MW'])\n",
    "df_output.loc[0, 'Average Bid [MW]'] = sum(df['Bid Size']) / len(df['Bid Size'])\n",
    "df_output.loc[0, 'Total Income [1000 €]'] = sum(df['Income']) / 1000\n",
    "df_output.loc[0, 'Total Costs [1000 €]'] = sum(df['Costs']) / 1000\n",
    "df_output.loc[0, 'Total Fines [1000 €]'] = sum(df['Fine']) / 1000\n",
    "df_fines = df[df['Fine'] != 0]\n",
    "df_output.loc[0, 'Number of Fines [#]'] = df_fines.shape[0]\n",
    "df_output.loc[0, 'Total Profit [1000 €]'] = sum(df['Profit']) / 1000\n",
    "df_output.loc[0, 'Number of ISPs with grid limitations [#]'] = len(df[df['Limitation'] == 'Network'])"
   ]
  },
  {
   "cell_type": "code",
   "execution_count": 8,
   "metadata": {},
   "outputs": [],
   "source": [
    "df_output.to_csv('Output deterministic model.csv')"
   ]
  },
  {
   "cell_type": "code",
   "execution_count": 9,
   "metadata": {},
   "outputs": [],
   "source": [
    "df_output = df_output[['Average Bid [MW]', 'Number of Fines [#]', 'Total Profit [1000 €]', 'Number of ISPs with grid limitations [#]']]\n",
    "df_output['Average Bid [MW]'] = df_output['Average Bid [MW]'].round(2)\n",
    "df_output['Total Profit [1000 €]'] = df_output['Total Profit [1000 €]'].round()"
   ]
  },
  {
   "cell_type": "code",
   "execution_count": 10,
   "metadata": {},
   "outputs": [
    {
     "data": {
      "text/html": [
       "<div>\n",
       "<style scoped>\n",
       "    .dataframe tbody tr th:only-of-type {\n",
       "        vertical-align: middle;\n",
       "    }\n",
       "\n",
       "    .dataframe tbody tr th {\n",
       "        vertical-align: top;\n",
       "    }\n",
       "\n",
       "    .dataframe thead th {\n",
       "        text-align: right;\n",
       "    }\n",
       "</style>\n",
       "<table border=\"1\" class=\"dataframe\">\n",
       "  <thead>\n",
       "    <tr style=\"text-align: right;\">\n",
       "      <th></th>\n",
       "      <th>Average Bid [MW]</th>\n",
       "      <th>Number of Fines [#]</th>\n",
       "      <th>Total Profit [1000 €]</th>\n",
       "      <th>Number of ISPs with grid limitations [#]</th>\n",
       "    </tr>\n",
       "  </thead>\n",
       "  <tbody>\n",
       "    <tr>\n",
       "      <th>0</th>\n",
       "      <td>35.73</td>\n",
       "      <td>0</td>\n",
       "      <td>1095</td>\n",
       "      <td>0</td>\n",
       "    </tr>\n",
       "  </tbody>\n",
       "</table>\n",
       "</div>"
      ],
      "text/plain": [
       "  Average Bid [MW] Number of Fines [#] Total Profit [1000 €]  \\\n",
       "0            35.73                   0                  1095   \n",
       "\n",
       "  Number of ISPs with grid limitations [#]  \n",
       "0                                        0  "
      ]
     },
     "execution_count": 10,
     "metadata": {},
     "output_type": "execute_result"
    }
   ],
   "source": [
    "df_output.astype(object)"
   ]
  },
  {
   "cell_type": "code",
   "execution_count": null,
   "metadata": {},
   "outputs": [],
   "source": []
  }
 ],
 "metadata": {
  "kernelspec": {
   "display_name": "Python 3",
   "language": "python",
   "name": "python3"
  },
  "language_info": {
   "codemirror_mode": {
    "name": "ipython",
    "version": 3
   },
   "file_extension": ".py",
   "mimetype": "text/x-python",
   "name": "python",
   "nbconvert_exporter": "python",
   "pygments_lexer": "ipython3",
   "version": "3.6.5"
  }
 },
 "nbformat": 4,
 "nbformat_minor": 2
}
